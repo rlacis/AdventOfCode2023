{
 "cells": [
  {
   "cell_type": "markdown",
   "source": [
    "# Advent of Code 2023, Day 11\n",
    "[Day 11 Challenge](https://adventofcode.com/2023/day/11)"
   ],
   "metadata": {
    "collapsed": false
   },
   "id": "d6f4a4b586642778"
  },
  {
   "cell_type": "code",
   "execution_count": 488,
   "outputs": [],
   "source": [
    "import aoc\n",
    "import logging\n",
    "import networkx as nx\n",
    "import numpy as np\n",
    "import scipy\n",
    "import matplotlib as mpl\n",
    "import matplotlib.pyplot as plt\n",
    "import itertools\n",
    "import math\n",
    "from typing import List\n",
    "%reload_ext autoreload\n",
    "\n",
    "day = 11\n",
    "sample = False"
   ],
   "metadata": {
    "collapsed": false,
    "ExecuteTime": {
     "end_time": "2023-12-16T17:21:25.373576Z",
     "start_time": "2023-12-16T17:21:25.347486Z"
    }
   },
   "id": "790ed657ae0d43a4"
  },
  {
   "cell_type": "code",
   "execution_count": 489,
   "outputs": [],
   "source": [
    "input_list = aoc.split_contents(aoc.read_input(f'Input/day_{day:02}{\"_sample\" if sample else \"\"}.txt'))"
   ],
   "metadata": {
    "collapsed": false,
    "ExecuteTime": {
     "end_time": "2023-12-16T17:21:25.374103Z",
     "start_time": "2023-12-16T17:21:25.369417Z"
    }
   },
   "id": "27ffd68a3bfc10f8"
  },
  {
   "cell_type": "markdown",
   "source": [
    "# Part 1"
   ],
   "metadata": {
    "collapsed": false
   },
   "id": "87b676ac886bbafa"
  },
  {
   "cell_type": "code",
   "execution_count": 490,
   "outputs": [],
   "source": [
    "def add_blank_rows(i_list):\n",
    "    image_width = len(i_list[0])\n",
    "    # Find all the blank rows\n",
    "    blank_row_list = list()\n",
    "    for index, row in enumerate(i_list):\n",
    "        if set(row) == {'.'}:\n",
    "            blank_row_list.append(index)\n",
    "    for row in blank_row_list[::-1]:\n",
    "        i_list.insert(row,'.' * image_width)\n",
    "    return i_list"
   ],
   "metadata": {
    "collapsed": false,
    "ExecuteTime": {
     "end_time": "2023-12-16T17:21:25.375826Z",
     "start_time": "2023-12-16T17:21:25.373989Z"
    }
   },
   "id": "8e8c635b3adf1f58"
  },
  {
   "cell_type": "code",
   "execution_count": 491,
   "outputs": [],
   "source": [
    "def transpose_list(i_matrix):\n",
    "    new_matrix = list()\n",
    "    for column in range(len(i_matrix[0])):\n",
    "        new_row = ''\n",
    "        for row in range(len(i_matrix)):\n",
    "            new_row += i_matrix[row][column]\n",
    "        new_matrix.append(new_row)\n",
    "    return new_matrix"
   ],
   "metadata": {
    "collapsed": false,
    "ExecuteTime": {
     "end_time": "2023-12-16T17:21:25.381979Z",
     "start_time": "2023-12-16T17:21:25.377518Z"
    }
   },
   "id": "ec91f855a409c540"
  },
  {
   "cell_type": "code",
   "execution_count": 492,
   "outputs": [],
   "source": [
    "def get_galaxy_coordinates(img):\n",
    "    galaxy_list = list()\n",
    "    for column in range(len(img[0])):\n",
    "        for row in range(len(img)):\n",
    "            if img[row][column]=='#':\n",
    "                galaxy_list.append((column,row))\n",
    "    return galaxy_list"
   ],
   "metadata": {
    "collapsed": false,
    "ExecuteTime": {
     "end_time": "2023-12-16T17:21:25.382847Z",
     "start_time": "2023-12-16T17:21:25.381048Z"
    }
   },
   "id": "7779a2e82026d3dc"
  },
  {
   "cell_type": "code",
   "execution_count": 493,
   "outputs": [],
   "source": [
    "expanded_image = transpose_list(add_blank_rows(transpose_list(add_blank_rows(input_list))))\n",
    "image_width = len(expanded_image[0])\n",
    "image_height = len(expanded_image)"
   ],
   "metadata": {
    "collapsed": false,
    "ExecuteTime": {
     "end_time": "2023-12-16T17:21:25.392143Z",
     "start_time": "2023-12-16T17:21:25.386202Z"
    }
   },
   "id": "e1d019be479a4d07"
  },
  {
   "cell_type": "code",
   "execution_count": 494,
   "outputs": [],
   "source": [
    "# create a 2d grid graph\n",
    "G = nx.grid_2d_graph(image_width, image_height)"
   ],
   "metadata": {
    "collapsed": false,
    "ExecuteTime": {
     "end_time": "2023-12-16T17:21:25.662206Z",
     "start_time": "2023-12-16T17:21:25.658910Z"
    }
   },
   "id": "3e8fa9d4ad6e857c"
  },
  {
   "cell_type": "code",
   "execution_count": 495,
   "outputs": [],
   "source": [
    "galaxy_coordinates = get_galaxy_coordinates(expanded_image)"
   ],
   "metadata": {
    "collapsed": false,
    "ExecuteTime": {
     "end_time": "2023-12-16T17:21:25.665501Z",
     "start_time": "2023-12-16T17:21:25.660798Z"
    }
   },
   "id": "6e85125c1d338c86"
  },
  {
   "cell_type": "code",
   "execution_count": 496,
   "outputs": [],
   "source": [
    "sum_of_shortest_paths=0\n",
    "for combo in itertools.combinations_with_replacement(galaxy_coordinates,2):\n",
    "    # only consider unique pairs that aren't the same coordinates\n",
    "    if combo[0]!=combo[1]:\n",
    "        # path_length = nx.shortest_path_length(G, combo[0], combo[1])\n",
    "        pl2 = abs(combo[0][0]-combo[1][0]) + abs(combo[0][1]-combo[1][1])\n",
    "        sum_of_shortest_paths += pl2\n",
    "        # aoc.logger.info(f'{combo=} {sum_of_shortest_paths=} {pl2=}')    "
   ],
   "metadata": {
    "collapsed": false,
    "ExecuteTime": {
     "end_time": "2023-12-16T17:21:25.689648Z",
     "start_time": "2023-12-16T17:21:25.687675Z"
    }
   },
   "id": "1e85a2cef07a2a94"
  },
  {
   "cell_type": "code",
   "execution_count": 497,
   "outputs": [
    {
     "data": {
      "text/plain": "9329143"
     },
     "execution_count": 497,
     "metadata": {},
     "output_type": "execute_result"
    }
   ],
   "source": [
    "sum_of_shortest_paths"
   ],
   "metadata": {
    "collapsed": false,
    "ExecuteTime": {
     "end_time": "2023-12-16T17:21:25.694432Z",
     "start_time": "2023-12-16T17:21:25.691151Z"
    }
   },
   "id": "c6ae7e9cbce842ee"
  },
  {
   "cell_type": "markdown",
   "source": [
    "# Part 2"
   ],
   "metadata": {
    "collapsed": false
   },
   "id": "e9bf465b6756c000"
  },
  {
   "cell_type": "code",
   "execution_count": 498,
   "outputs": [],
   "source": [
    "def get_blank_rows(i_list):\n",
    "    # Find all the blank rows\n",
    "    blank_row_list = list()\n",
    "    for index, row in enumerate(i_list):\n",
    "        if set(row) == {'.'}:\n",
    "            blank_row_list.append(index)\n",
    "    return blank_row_list"
   ],
   "metadata": {
    "collapsed": false,
    "ExecuteTime": {
     "end_time": "2023-12-16T17:21:25.699144Z",
     "start_time": "2023-12-16T17:21:25.696600Z"
    }
   },
   "id": "f37bbbe4376e9d0e"
  },
  {
   "cell_type": "code",
   "execution_count": 499,
   "outputs": [],
   "source": [
    "input_list = aoc.split_contents(aoc.read_input(f'Input/day_{day:02}{\"_sample\" if sample else \"\"}.txt'))"
   ],
   "metadata": {
    "collapsed": false,
    "ExecuteTime": {
     "end_time": "2023-12-16T17:21:25.700657Z",
     "start_time": "2023-12-16T17:21:25.700107Z"
    }
   },
   "id": "e973fd9803ad1d2e"
  },
  {
   "cell_type": "code",
   "execution_count": 500,
   "outputs": [],
   "source": [
    "empty_rows = get_blank_rows(input_list)\n",
    "empty_columns = get_blank_rows(transpose_list(input_list))"
   ],
   "metadata": {
    "collapsed": false,
    "ExecuteTime": {
     "end_time": "2023-12-16T17:21:25.705851Z",
     "start_time": "2023-12-16T17:21:25.702749Z"
    }
   },
   "id": "7cba43ca7fd50c9f"
  },
  {
   "cell_type": "code",
   "execution_count": 501,
   "outputs": [],
   "source": [
    "expansion_factor = 1_000_000\n",
    "galaxy_coordinates = get_galaxy_coordinates(input_list)\n",
    "sum_of_shortest_paths=0\n",
    "\n",
    "for combo in itertools.combinations_with_replacement(galaxy_coordinates,2):\n",
    "    c1 = combo[0]\n",
    "    c2 = combo[1]\n",
    "    # only consider unique pairs that aren't the same coordinates\n",
    "    if c1 != c2:\n",
    "        expansion_column_count = len([x for x in empty_columns if min(c1[0],c2[0]) < x < max(c1[0],c2[0])])\n",
    "        expansion_row_count = len([x for x in empty_rows if min(c1[1],c2[1]) < x < max(c1[1],c2[1])])\n",
    "        pl2 = (abs(c1[0]-c2[0]) - expansion_row_count + expansion_row_count * expansion_factor \n",
    "               + abs(c1[1]-c2[1]) - expansion_column_count + expansion_column_count * expansion_factor)\n",
    "        sum_of_shortest_paths += pl2\n",
    "        # aoc.logger.info(f'{c1=} {c2=} {expansion_row_count=} {expansion_column_count=} {pl2=}')   "
   ],
   "metadata": {
    "collapsed": false,
    "ExecuteTime": {
     "end_time": "2023-12-16T17:21:25.981803Z",
     "start_time": "2023-12-16T17:21:25.753755Z"
    }
   },
   "id": "86a66d3630badd3b"
  },
  {
   "cell_type": "code",
   "execution_count": 502,
   "outputs": [
    {
     "data": {
      "text/plain": "710674907809"
     },
     "execution_count": 502,
     "metadata": {},
     "output_type": "execute_result"
    }
   ],
   "source": [
    "sum_of_shortest_paths"
   ],
   "metadata": {
    "collapsed": false,
    "ExecuteTime": {
     "end_time": "2023-12-16T17:21:25.985312Z",
     "start_time": "2023-12-16T17:21:25.982104Z"
    }
   },
   "id": "5be48228b29e7109"
  }
 ],
 "metadata": {
  "kernelspec": {
   "display_name": "Python 3",
   "language": "python",
   "name": "python3"
  },
  "language_info": {
   "codemirror_mode": {
    "name": "ipython",
    "version": 2
   },
   "file_extension": ".py",
   "mimetype": "text/x-python",
   "name": "python",
   "nbconvert_exporter": "python",
   "pygments_lexer": "ipython2",
   "version": "2.7.6"
  }
 },
 "nbformat": 4,
 "nbformat_minor": 5
}
