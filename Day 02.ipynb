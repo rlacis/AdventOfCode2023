{
 "cells": [
  {
   "cell_type": "markdown",
   "source": [
    "# Advent of Code 2023, Day 2\n",
    "https://adventofcode.com/2023/day/2"
   ],
   "metadata": {
    "collapsed": false
   },
   "id": "caa980cb2cf4d977"
  },
  {
   "cell_type": "code",
   "execution_count": 2,
   "outputs": [],
   "source": [
    "import aoc\n",
    "%reload_ext autoreload"
   ],
   "metadata": {
    "collapsed": false,
    "ExecuteTime": {
     "end_time": "2023-12-02T15:59:10.201640Z",
     "start_time": "2023-12-02T15:59:10.101595Z"
    }
   },
   "id": "1bdfc5c3fd4d6fd6"
  },
  {
   "cell_type": "code",
   "execution_count": 26,
   "outputs": [],
   "source": [
    "input_list = aoc.split_contents(aoc.read_input('Input/day_02.txt'))"
   ],
   "metadata": {
    "collapsed": false,
    "ExecuteTime": {
     "end_time": "2023-12-02T15:49:27.906784Z",
     "start_time": "2023-12-02T15:49:27.904360Z"
    }
   },
   "id": "b45574b5e7a429a6"
  },
  {
   "cell_type": "markdown",
   "source": [
    "# Part 1"
   ],
   "metadata": {
    "collapsed": false
   },
   "id": "bada0a53337448ff"
  },
  {
   "cell_type": "code",
   "execution_count": 27,
   "outputs": [],
   "source": [
    "def valid_game_check(c_count: int, c_color: str) -> bool:\n",
    "    bag_dict = {'red': 12, 'green': 13, 'blue': 14}\n",
    "    return bag_dict[c_color] >= c_count"
   ],
   "metadata": {
    "collapsed": false,
    "ExecuteTime": {
     "end_time": "2023-12-02T15:49:27.911771Z",
     "start_time": "2023-12-02T15:49:27.907760Z"
    }
   },
   "id": "b4a07d0ee3e1f314"
  },
  {
   "cell_type": "code",
   "execution_count": 28,
   "outputs": [],
   "source": [
    "sum_of_game_ids = 0\n",
    "\n",
    "for game in input_list:\n",
    "    valid_game = True\n",
    "    game_id = int(game.split(':')[0].split(' ')[1])\n",
    "    game_sets = game.split(':')[1].split(';')\n",
    "    for cube_sets in game_sets:\n",
    "        cubes = cube_sets.strip().split(',')\n",
    "        # logger.info(f'{game_id=} {cubes}')\n",
    "        for cube in cubes:\n",
    "            cube_count = int(cube.strip().split(' ')[0])\n",
    "            cube_color = cube.strip().split(' ')[1]\n",
    "            # logging.info(f'{cube_count=} {cube_color=} {valid_game_check(cube_count, cube_color)}')\n",
    "            if not valid_game_check(cube_count, cube_color):\n",
    "                valid_game = False\n",
    "    # logging.info(f'{game_id=} {valid_game=}')\n",
    "    sum_of_game_ids += game_id if valid_game else 0"
   ],
   "metadata": {
    "collapsed": false,
    "ExecuteTime": {
     "end_time": "2023-12-02T15:49:27.915755Z",
     "start_time": "2023-12-02T15:49:27.911735Z"
    }
   },
   "id": "4474cc7c97b76b7"
  },
  {
   "cell_type": "code",
   "execution_count": 29,
   "outputs": [
    {
     "name": "stderr",
     "output_type": "stream",
     "text": [
      "INFO:AoC:Part 1: sum_of_game_ids=2776\n"
     ]
    }
   ],
   "source": [
    "aoc.logger.info(f'Part 1: {sum_of_game_ids=}')"
   ],
   "metadata": {
    "collapsed": false,
    "ExecuteTime": {
     "end_time": "2023-12-02T15:49:27.919949Z",
     "start_time": "2023-12-02T15:49:27.915181Z"
    }
   },
   "id": "d96a4e8c8c423d37"
  },
  {
   "cell_type": "markdown",
   "source": [
    "# Part 2"
   ],
   "metadata": {
    "collapsed": false
   },
   "id": "28307a08ef771b11"
  },
  {
   "cell_type": "code",
   "execution_count": 30,
   "outputs": [],
   "source": [
    "sum_of_game_powers = 0\n",
    "\n",
    "for game in input_list:\n",
    "    aoc.logger.setLevel(30)\n",
    "    minimum_game_cubes = {'red': 0, 'green': 0, 'blue': 0}\n",
    "    game_id = int(game.split(':')[0].split(' ')[1])\n",
    "    game_sets = game.split(':')[1].split(';')\n",
    "    for cube_sets in game_sets:\n",
    "        cubes = cube_sets.strip().split(',')\n",
    "        for cube in cubes:\n",
    "            cube_count = int(cube.strip().split(' ')[0])\n",
    "            cube_color = cube.strip().split(' ')[1]\n",
    "            minimum_game_cubes[cube_color] = max(minimum_game_cubes[cube_color], cube_count)\n",
    "            aoc.logger.info(f'{game_id=} {minimum_game_cubes=}')\n",
    "    sum_of_game_powers += minimum_game_cubes['red'] * minimum_game_cubes['green'] * minimum_game_cubes['blue']\n",
    "    \n",
    "aoc.logger.setLevel(10)"
   ],
   "metadata": {
    "collapsed": false,
    "ExecuteTime": {
     "end_time": "2023-12-02T15:49:27.924053Z",
     "start_time": "2023-12-02T15:49:27.921184Z"
    }
   },
   "id": "299bff035900c5b8"
  },
  {
   "cell_type": "code",
   "execution_count": 31,
   "outputs": [
    {
     "name": "stderr",
     "output_type": "stream",
     "text": [
      "INFO:AoC:sum_of_game_powers=68638\n"
     ]
    }
   ],
   "source": [
    "aoc.logger.info(f'{sum_of_game_powers=}')"
   ],
   "metadata": {
    "collapsed": false,
    "ExecuteTime": {
     "end_time": "2023-12-02T15:49:27.943269Z",
     "start_time": "2023-12-02T15:49:27.923092Z"
    }
   },
   "id": "a70c052148292f1c"
  }
 ],
 "metadata": {
  "kernelspec": {
   "display_name": "Python 3",
   "language": "python",
   "name": "python3"
  },
  "language_info": {
   "codemirror_mode": {
    "name": "ipython",
    "version": 2
   },
   "file_extension": ".py",
   "mimetype": "text/x-python",
   "name": "python",
   "nbconvert_exporter": "python",
   "pygments_lexer": "ipython2",
   "version": "2.7.6"
  }
 },
 "nbformat": 4,
 "nbformat_minor": 5
}
