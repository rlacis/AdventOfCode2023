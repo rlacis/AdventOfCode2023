{
 "cells": [
  {
   "cell_type": "markdown",
   "source": [
    "# Advent of Code 2023, Day 6\n",
    "[Day 6 Challenge](https://adventofcode.com/2023/day/6)"
   ],
   "metadata": {
    "collapsed": false
   },
   "id": "ff53e72fd50fe577"
  },
  {
   "cell_type": "code",
   "execution_count": 120,
   "outputs": [],
   "source": [
    "import aoc\n",
    "import math\n",
    "%reload_ext autoreload\n",
    "\n",
    "day = 6\n",
    "sample = False"
   ],
   "metadata": {
    "collapsed": false,
    "ExecuteTime": {
     "end_time": "2023-12-08T04:55:22.015205Z",
     "start_time": "2023-12-08T04:55:21.985267Z"
    }
   },
   "id": "a6ba087a52958b71"
  },
  {
   "cell_type": "code",
   "execution_count": 121,
   "outputs": [],
   "source": [
    "input_list = aoc.split_contents(aoc.read_input(f'Input/day_{day:02}{\"_sample\" if sample else \"\"}.txt'))"
   ],
   "metadata": {
    "collapsed": false,
    "ExecuteTime": {
     "end_time": "2023-12-08T04:55:22.015552Z",
     "start_time": "2023-12-08T04:55:22.001134Z"
    }
   },
   "id": "a23aa42d47dd8e89"
  },
  {
   "cell_type": "markdown",
   "source": [
    "# Part 1"
   ],
   "metadata": {
    "collapsed": false
   },
   "id": "14a58b74856136a0"
  },
  {
   "cell_type": "code",
   "execution_count": 122,
   "outputs": [],
   "source": [
    "race_times = [int(x) for x in input_list[0].split(':')[1].split()]\n",
    "race_distances = [int(x) for x in input_list[1].split(':')[1].split()]\n",
    "number_of_races = len(race_times)"
   ],
   "metadata": {
    "collapsed": false,
    "ExecuteTime": {
     "end_time": "2023-12-08T04:55:22.015643Z",
     "start_time": "2023-12-08T04:55:22.004703Z"
    }
   },
   "id": "84d99a8b5eda258c"
  },
  {
   "cell_type": "code",
   "execution_count": 123,
   "outputs": [],
   "source": [
    "def distance_traveled(race_duration, charge_duration):\n",
    "    move_duration = race_duration - charge_duration\n",
    "    velocity = charge_duration\n",
    "    distance = velocity * move_duration\n",
    "    return distance"
   ],
   "metadata": {
    "collapsed": false,
    "ExecuteTime": {
     "end_time": "2023-12-08T04:55:22.015739Z",
     "start_time": "2023-12-08T04:55:22.007646Z"
    }
   },
   "id": "5ae26cea953f336f"
  },
  {
   "cell_type": "code",
   "execution_count": 124,
   "outputs": [
    {
     "data": {
      "text/plain": "10"
     },
     "execution_count": 124,
     "metadata": {},
     "output_type": "execute_result"
    }
   ],
   "source": [
    "distance_traveled(7,5)"
   ],
   "metadata": {
    "collapsed": false,
    "ExecuteTime": {
     "end_time": "2023-12-08T04:55:22.015912Z",
     "start_time": "2023-12-08T04:55:22.011890Z"
    }
   },
   "id": "2bd94524ae01c46e"
  },
  {
   "cell_type": "code",
   "execution_count": 125,
   "outputs": [],
   "source": [
    "def get_win_count(rd, record):\n",
    "    win_count = 0\n",
    "    for cd in range(1,rd+1):\n",
    "        aoc.logger.info(f'{cd=} {distance_traveled(rd, cd)=}')\n",
    "        if distance_traveled(rd, cd) > record:\n",
    "            win_count += 1\n",
    "    return win_count"
   ],
   "metadata": {
    "collapsed": false,
    "ExecuteTime": {
     "end_time": "2023-12-08T04:55:22.018259Z",
     "start_time": "2023-12-08T04:55:22.015019Z"
    }
   },
   "id": "7f805696680364ec"
  },
  {
   "cell_type": "code",
   "execution_count": 126,
   "outputs": [],
   "source": [
    "aoc.logger.setLevel(30)\n",
    "win_count_multiple = 1\n",
    "for race in range(0,number_of_races):\n",
    "    aoc.logger.info(f'{race_times[race]=} {race_distances[race]=}')\n",
    "    win_count_multiple *= get_win_count(race_times[race], race_distances[race])"
   ],
   "metadata": {
    "collapsed": false,
    "ExecuteTime": {
     "end_time": "2023-12-08T04:55:22.036939Z",
     "start_time": "2023-12-08T04:55:22.017582Z"
    }
   },
   "id": "83a058e75bf6633"
  },
  {
   "cell_type": "code",
   "execution_count": 127,
   "outputs": [
    {
     "data": {
      "text/plain": "771628"
     },
     "execution_count": 127,
     "metadata": {},
     "output_type": "execute_result"
    }
   ],
   "source": [
    "win_count_multiple"
   ],
   "metadata": {
    "collapsed": false,
    "ExecuteTime": {
     "end_time": "2023-12-08T04:55:22.037153Z",
     "start_time": "2023-12-08T04:55:22.019937Z"
    }
   },
   "id": "ab6ab307bcc837"
  },
  {
   "cell_type": "markdown",
   "source": [
    "# Part 2\n",
    "Don't need to create a list to check all the combination. This is a parabolic function\n",
    "with 2 crossing points."
   ],
   "metadata": {
    "collapsed": false
   },
   "id": "f587cacc9bb0cbb9"
  },
  {
   "cell_type": "code",
   "execution_count": 128,
   "outputs": [],
   "source": [
    "# b\n",
    "total_time = int(input_list[0].split(':')[1].replace(' ','')) * -1\n",
    "# c\n",
    "total_distance = int(input_list[1].split(':')[1].replace(' ',''))"
   ],
   "metadata": {
    "collapsed": false,
    "ExecuteTime": {
     "end_time": "2023-12-08T04:55:22.037206Z",
     "start_time": "2023-12-08T04:55:22.022481Z"
    }
   },
   "id": "c51eee47e3d66c6e"
  },
  {
   "cell_type": "code",
   "execution_count": 129,
   "outputs": [],
   "source": [
    "def quadratic_solutions(a, b, c):\n",
    "    disc = b * b - 4 * a * c\n",
    "    x1 = (-b+math.sqrt(disc))/(2*a)\n",
    "    x2 = (-b-math.sqrt(disc))/(2*a)\n",
    "    return min(x1, x2), max(x1,x2)"
   ],
   "metadata": {
    "collapsed": false,
    "ExecuteTime": {
     "end_time": "2023-12-08T04:55:22.037253Z",
     "start_time": "2023-12-08T04:55:22.025884Z"
    }
   },
   "id": "24b4f11779ba243f"
  },
  {
   "cell_type": "code",
   "execution_count": 130,
   "outputs": [],
   "source": [
    "button_start = math.ceil(quadratic_solutions(1, total_time, total_distance)[0])\n",
    "button_end = math.floor(quadratic_solutions(1, total_time, total_distance)[1])"
   ],
   "metadata": {
    "collapsed": false,
    "ExecuteTime": {
     "end_time": "2023-12-08T04:55:22.037292Z",
     "start_time": "2023-12-08T04:55:22.027754Z"
    }
   },
   "id": "753e4f35ded581c7"
  },
  {
   "cell_type": "code",
   "execution_count": 131,
   "outputs": [
    {
     "data": {
      "text/plain": "27363861"
     },
     "execution_count": 131,
     "metadata": {},
     "output_type": "execute_result"
    }
   ],
   "source": [
    "(button_end - button_start) + 1"
   ],
   "metadata": {
    "collapsed": false,
    "ExecuteTime": {
     "end_time": "2023-12-08T04:55:22.037350Z",
     "start_time": "2023-12-08T04:55:22.029636Z"
    }
   },
   "id": "2fda3b3e7674c2cc"
  }
 ],
 "metadata": {
  "kernelspec": {
   "display_name": "Python 3",
   "language": "python",
   "name": "python3"
  },
  "language_info": {
   "codemirror_mode": {
    "name": "ipython",
    "version": 2
   },
   "file_extension": ".py",
   "mimetype": "text/x-python",
   "name": "python",
   "nbconvert_exporter": "python",
   "pygments_lexer": "ipython2",
   "version": "2.7.6"
  }
 },
 "nbformat": 4,
 "nbformat_minor": 5
}
