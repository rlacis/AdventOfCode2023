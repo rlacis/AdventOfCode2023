{
 "cells": [
  {
   "cell_type": "markdown",
   "source": [
    "# Advent of Code 2023, Day 9\n",
    "[Day 9 Challenge](https://adventofcode.com/2023/day/9)"
   ],
   "metadata": {
    "collapsed": false
   },
   "id": "4b07aae232ef470"
  },
  {
   "cell_type": "code",
   "execution_count": 326,
   "outputs": [],
   "source": [
    "import aoc\n",
    "import logging\n",
    "%reload_ext autoreload\n",
    "\n",
    "day = 9\n",
    "sample = True"
   ],
   "metadata": {
    "collapsed": false,
    "ExecuteTime": {
     "end_time": "2023-12-13T19:02:28.777614Z",
     "start_time": "2023-12-13T19:02:28.741137Z"
    }
   },
   "id": "e2ddd8563ae926a5"
  },
  {
   "cell_type": "code",
   "execution_count": 327,
   "outputs": [],
   "source": [
    "input_list = aoc.split_contents(aoc.read_input(f'Input/day_{day:02}{\"_sample\" if sample else \"\"}.txt'))"
   ],
   "metadata": {
    "collapsed": false,
    "ExecuteTime": {
     "end_time": "2023-12-13T19:02:28.786309Z",
     "start_time": "2023-12-13T19:02:28.775370Z"
    }
   },
   "id": "ab9e9ebeb787123b"
  },
  {
   "cell_type": "markdown",
   "source": [
    "# Part 1"
   ],
   "metadata": {
    "collapsed": false
   },
   "id": "2493725a1ae3bf9e"
  },
  {
   "cell_type": "code",
   "execution_count": 328,
   "outputs": [],
   "source": [
    "oasis_report = list()\n",
    "oasis_report_2 = list()\n",
    "for item in input_list:\n",
    "    oasis_report.append([int(x) for x in item.split()])\n",
    "    oasis_report_2.append([int(x) for x in item.split()])"
   ],
   "metadata": {
    "collapsed": false,
    "ExecuteTime": {
     "end_time": "2023-12-13T19:02:28.786724Z",
     "start_time": "2023-12-13T19:02:28.780414Z"
    }
   },
   "id": "5e1f80629b4aeac7"
  },
  {
   "cell_type": "code",
   "execution_count": 329,
   "outputs": [
    {
     "data": {
      "text/plain": "[[0, 3, 6, 9, 12, 15], [1, 3, 6, 10, 15, 21], [10, 13, 16, 21, 30, 45]]"
     },
     "execution_count": 329,
     "metadata": {},
     "output_type": "execute_result"
    }
   ],
   "source": [
    "oasis_report"
   ],
   "metadata": {
    "collapsed": false,
    "ExecuteTime": {
     "end_time": "2023-12-13T19:02:28.787439Z",
     "start_time": "2023-12-13T19:02:28.783128Z"
    }
   },
   "id": "6072d30a22fce418"
  },
  {
   "cell_type": "code",
   "execution_count": 330,
   "outputs": [],
   "source": [
    "def get_diff_list(sequence, start_list):\n",
    "    new_sequence = list()\n",
    "    for i in range(len(sequence)-1):\n",
    "        new_sequence.append(sequence[i+1] - sequence[i])\n",
    "    # aoc.logger.info(f'{new_sequence=}')\n",
    "    start_list.append(new_sequence)\n",
    "    if set(new_sequence) != {0}:\n",
    "        get_diff_list(new_sequence, start_list)\n",
    "    return start_list"
   ],
   "metadata": {
    "collapsed": false,
    "ExecuteTime": {
     "end_time": "2023-12-13T19:02:28.789785Z",
     "start_time": "2023-12-13T19:02:28.788164Z"
    }
   },
   "id": "1eff1bfdaed775fd"
  },
  {
   "cell_type": "code",
   "execution_count": 331,
   "outputs": [],
   "source": [
    "def get_history_value(report_item):\n",
    "    report_list = get_diff_list(report_item,[])[::-1]\n",
    "    report_list.append(report_item)\n",
    "    report_list[0].append(0)\n",
    "    for i,report in enumerate(report_list[1:]):\n",
    "        aoc.logger.info(f'{i=} {report[-1]=}')\n",
    "        report_list[i+1].append(report[-1] + report_list[i][-1])\n",
    "    history_value = report_list[-1][-1]\n",
    "    return history_value"
   ],
   "metadata": {
    "collapsed": false,
    "ExecuteTime": {
     "end_time": "2023-12-13T19:02:28.806770Z",
     "start_time": "2023-12-13T19:02:28.792500Z"
    }
   },
   "id": "fb29f57eea38d663"
  },
  {
   "cell_type": "code",
   "execution_count": 332,
   "outputs": [],
   "source": [
    "aoc.logger.setLevel(logging.WARNING)\n",
    "history_value_sum = 0\n",
    "for r in oasis_report:\n",
    "    history_value_sum += get_history_value(r)"
   ],
   "metadata": {
    "collapsed": false,
    "ExecuteTime": {
     "end_time": "2023-12-13T19:02:28.833828Z",
     "start_time": "2023-12-13T19:02:28.797822Z"
    }
   },
   "id": "4f2c87d9569ab67b"
  },
  {
   "cell_type": "code",
   "execution_count": 333,
   "outputs": [
    {
     "data": {
      "text/plain": "114"
     },
     "execution_count": 333,
     "metadata": {},
     "output_type": "execute_result"
    }
   ],
   "source": [
    "history_value_sum"
   ],
   "metadata": {
    "collapsed": false,
    "ExecuteTime": {
     "end_time": "2023-12-13T19:02:28.834182Z",
     "start_time": "2023-12-13T19:02:28.799999Z"
    }
   },
   "id": "a6f37edf4fb3bb8e"
  },
  {
   "cell_type": "markdown",
   "source": [
    "# Part 2"
   ],
   "metadata": {
    "collapsed": false
   },
   "id": "4163eb6ef27d9cb0"
  },
  {
   "cell_type": "markdown",
   "source": [],
   "metadata": {
    "collapsed": false
   },
   "id": "921c5b8b297f5937"
  },
  {
   "cell_type": "code",
   "execution_count": 334,
   "outputs": [
    {
     "data": {
      "text/plain": "[[0, 3, 6, 9, 12, 15], [1, 3, 6, 10, 15, 21], [10, 13, 16, 21, 30, 45]]"
     },
     "execution_count": 334,
     "metadata": {},
     "output_type": "execute_result"
    }
   ],
   "source": [
    "oasis_report_2"
   ],
   "metadata": {
    "collapsed": false,
    "ExecuteTime": {
     "end_time": "2023-12-13T19:02:28.835242Z",
     "start_time": "2023-12-13T19:02:28.803873Z"
    }
   },
   "id": "4a35f3d9dc7d571c"
  },
  {
   "cell_type": "code",
   "execution_count": 335,
   "outputs": [],
   "source": [
    "def get_history_value_2(report_item):\n",
    "    report_list = get_diff_list(report_item,[])[::-1]\n",
    "    report_list.append(report_item)\n",
    "    report_list[0].append(0)\n",
    "    aoc.logger.info(f'{report_list=}')\n",
    "    for i,report in enumerate(report_list[1:]):\n",
    "        aoc.logger.info(f'{i=} {report[0]=} {report=}')\n",
    "        report_list[i+1].insert(0, report[0] - report_list[i][0])\n",
    "        aoc.logger.info(f'{report_list=}')\n",
    "        # pass\n",
    "    # history_value = report_list[-1][0]\n",
    "    return 0 # history_value"
   ],
   "metadata": {
    "collapsed": false,
    "ExecuteTime": {
     "end_time": "2023-12-13T19:02:28.835511Z",
     "start_time": "2023-12-13T19:02:28.809493Z"
    }
   },
   "id": "c9a32db0015d0b85"
  },
  {
   "cell_type": "code",
   "execution_count": 338,
   "outputs": [
    {
     "name": "stderr",
     "output_type": "stream",
     "text": [
      "INFO:AoC:report_list=[[0, 0, 0, 0, 0, 0], [1, 1, 1, 1, 1, 1], [1, 2, 3, 4, 5, 6, 7], [0, 1, 3, 6, 10, 15, 21, 28]]\n",
      "INFO:AoC:i=0 report[0]=1 report=[1, 1, 1, 1, 1, 1]\n",
      "INFO:AoC:report_list=[[0, 0, 0, 0, 0, 0], [1, 1, 1, 1, 1, 1, 1], [1, 2, 3, 4, 5, 6, 7], [0, 1, 3, 6, 10, 15, 21, 28]]\n",
      "INFO:AoC:i=1 report[0]=1 report=[1, 2, 3, 4, 5, 6, 7]\n",
      "INFO:AoC:report_list=[[0, 0, 0, 0, 0, 0], [1, 1, 1, 1, 1, 1, 1], [0, 1, 2, 3, 4, 5, 6, 7], [0, 1, 3, 6, 10, 15, 21, 28]]\n",
      "INFO:AoC:i=2 report[0]=0 report=[0, 1, 3, 6, 10, 15, 21, 28]\n",
      "INFO:AoC:report_list=[[0, 0, 0, 0, 0, 0], [1, 1, 1, 1, 1, 1, 1], [0, 1, 2, 3, 4, 5, 6, 7], [0, 0, 1, 3, 6, 10, 15, 21, 28]]\n"
     ]
    },
    {
     "data": {
      "text/plain": "0"
     },
     "execution_count": 338,
     "metadata": {},
     "output_type": "execute_result"
    }
   ],
   "source": [
    "get_history_value_2(oasis_report[1])"
   ],
   "metadata": {
    "collapsed": false,
    "ExecuteTime": {
     "end_time": "2023-12-13T19:02:34.059033Z",
     "start_time": "2023-12-13T19:02:34.048838Z"
    }
   },
   "id": "b1ed955191ca1c37"
  },
  {
   "cell_type": "code",
   "execution_count": 337,
   "outputs": [
    {
     "name": "stderr",
     "output_type": "stream",
     "text": [
      "INFO:AoC:report_list=[[0, 0, 0, 0, 0], [3, 3, 3, 3, 3], [0, 3, 6, 9, 12, 15]]\n",
      "INFO:AoC:i=0 report[0]=3 report=[3, 3, 3, 3, 3]\n",
      "INFO:AoC:report_list=[[0, 0, 0, 0, 0], [3, 3, 3, 3, 3, 3], [0, 3, 6, 9, 12, 15]]\n",
      "INFO:AoC:i=1 report[0]=0 report=[0, 3, 6, 9, 12, 15]\n",
      "INFO:AoC:report_list=[[0, 0, 0, 0, 0], [3, 3, 3, 3, 3, 3], [-3, 0, 3, 6, 9, 12, 15]]\n",
      "INFO:AoC:report_list=[[0, 0, 0, 0], [1, 1, 1, 1], [2, 3, 4, 5, 6], [1, 3, 6, 10, 15, 21]]\n",
      "INFO:AoC:i=0 report[0]=1 report=[1, 1, 1, 1]\n",
      "INFO:AoC:report_list=[[0, 0, 0, 0], [1, 1, 1, 1, 1], [2, 3, 4, 5, 6], [1, 3, 6, 10, 15, 21]]\n",
      "INFO:AoC:i=1 report[0]=2 report=[2, 3, 4, 5, 6]\n",
      "INFO:AoC:report_list=[[0, 0, 0, 0], [1, 1, 1, 1, 1], [1, 2, 3, 4, 5, 6], [1, 3, 6, 10, 15, 21]]\n",
      "INFO:AoC:i=2 report[0]=1 report=[1, 3, 6, 10, 15, 21]\n",
      "INFO:AoC:report_list=[[0, 0, 0, 0], [1, 1, 1, 1, 1], [1, 2, 3, 4, 5, 6], [0, 1, 3, 6, 10, 15, 21]]\n",
      "INFO:AoC:report_list=[[0, 0, 0], [2, 2, 2], [0, 2, 4, 6], [3, 3, 5, 9, 15], [10, 13, 16, 21, 30, 45]]\n",
      "INFO:AoC:i=0 report[0]=2 report=[2, 2, 2]\n",
      "INFO:AoC:report_list=[[0, 0, 0], [2, 2, 2, 2], [0, 2, 4, 6], [3, 3, 5, 9, 15], [10, 13, 16, 21, 30, 45]]\n",
      "INFO:AoC:i=1 report[0]=0 report=[0, 2, 4, 6]\n",
      "INFO:AoC:report_list=[[0, 0, 0], [2, 2, 2, 2], [-2, 0, 2, 4, 6], [3, 3, 5, 9, 15], [10, 13, 16, 21, 30, 45]]\n",
      "INFO:AoC:i=2 report[0]=3 report=[3, 3, 5, 9, 15]\n",
      "INFO:AoC:report_list=[[0, 0, 0], [2, 2, 2, 2], [-2, 0, 2, 4, 6], [5, 3, 3, 5, 9, 15], [10, 13, 16, 21, 30, 45]]\n",
      "INFO:AoC:i=3 report[0]=10 report=[10, 13, 16, 21, 30, 45]\n",
      "INFO:AoC:report_list=[[0, 0, 0], [2, 2, 2, 2], [-2, 0, 2, 4, 6], [5, 3, 3, 5, 9, 15], [5, 10, 13, 16, 21, 30, 45]]\n"
     ]
    }
   ],
   "source": [
    "aoc.logger.setLevel(logging.INFO)\n",
    "history_value_sum_2 = 0\n",
    "for r in oasis_report_2:\n",
    "    history_value_sum_2 += get_history_value_2(r)"
   ],
   "metadata": {
    "collapsed": false,
    "ExecuteTime": {
     "end_time": "2023-12-13T19:02:28.836434Z",
     "start_time": "2023-12-13T19:02:28.815108Z"
    }
   },
   "id": "d5197f3854146a92"
  },
  {
   "cell_type": "code",
   "execution_count": 337,
   "outputs": [],
   "source": [],
   "metadata": {
    "collapsed": false,
    "ExecuteTime": {
     "end_time": "2023-12-13T19:02:28.836625Z",
     "start_time": "2023-12-13T19:02:28.822450Z"
    }
   },
   "id": "6d12bb99da054053"
  }
 ],
 "metadata": {
  "kernelspec": {
   "display_name": "Python 3",
   "language": "python",
   "name": "python3"
  },
  "language_info": {
   "codemirror_mode": {
    "name": "ipython",
    "version": 2
   },
   "file_extension": ".py",
   "mimetype": "text/x-python",
   "name": "python",
   "nbconvert_exporter": "python",
   "pygments_lexer": "ipython2",
   "version": "2.7.6"
  }
 },
 "nbformat": 4,
 "nbformat_minor": 5
}
