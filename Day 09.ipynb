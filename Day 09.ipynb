{
 "cells": [
  {
   "cell_type": "markdown",
   "source": [
    "# Advent of Code 2023, Day 9\n",
    "[Day 8 Challenge](https://adventofcode.com/2023/day/8)"
   ],
   "metadata": {
    "collapsed": false
   },
   "id": "4b07aae232ef470"
  },
  {
   "cell_type": "code",
   "execution_count": 161,
   "outputs": [],
   "source": [
    "import aoc\n",
    "import logging\n",
    "import networkx as nx\n",
    "import scipy\n",
    "import matplotlib as mpl\n",
    "import matplotlib.pyplot as plt\n",
    "import itertools\n",
    "import math\n",
    "from typing import List\n",
    "%reload_ext autoreload\n",
    "\n",
    "day = 9\n",
    "sample = True"
   ],
   "metadata": {
    "collapsed": false,
    "ExecuteTime": {
     "end_time": "2023-12-12T23:44:06.275617Z",
     "start_time": "2023-12-12T23:44:06.170148Z"
    }
   },
   "id": "e2ddd8563ae926a5"
  },
  {
   "cell_type": "code",
   "execution_count": 162,
   "outputs": [],
   "source": [
    "input_list = aoc.split_contents(aoc.read_input(f'Input/day_{day:02}{\"_sample\" if sample else \"\"}.txt'))"
   ],
   "metadata": {
    "collapsed": false,
    "ExecuteTime": {
     "end_time": "2023-12-12T23:44:06.275998Z",
     "start_time": "2023-12-12T23:44:06.268310Z"
    }
   },
   "id": "ab9e9ebeb787123b"
  },
  {
   "cell_type": "markdown",
   "source": [
    "# Part 1"
   ],
   "metadata": {
    "collapsed": false
   },
   "id": "2493725a1ae3bf9e"
  },
  {
   "cell_type": "code",
   "execution_count": 163,
   "outputs": [],
   "source": [
    "oasis_report = list()\n",
    "for item in input_list:\n",
    "    oasis_report.append([int(x) for x in item.split()])"
   ],
   "metadata": {
    "collapsed": false,
    "ExecuteTime": {
     "end_time": "2023-12-12T23:44:06.276631Z",
     "start_time": "2023-12-12T23:44:06.274258Z"
    }
   },
   "id": "5e1f80629b4aeac7"
  },
  {
   "cell_type": "code",
   "execution_count": 164,
   "outputs": [],
   "source": [
    "def get_diff_list(sequence, start_list):\n",
    "    new_sequence = list()\n",
    "    for i in range(len(sequence)-1):\n",
    "        new_sequence.append(sequence[i+1] - sequence[i])\n",
    "    aoc.logger.info(f'{new_sequence=}')\n",
    "    start_list.append(new_sequence)\n",
    "    if set(new_sequence) != {0}:\n",
    "        get_diff_list(new_sequence, start_list)\n",
    "    return start_list"
   ],
   "metadata": {
    "collapsed": false,
    "ExecuteTime": {
     "end_time": "2023-12-12T23:44:06.280971Z",
     "start_time": "2023-12-12T23:44:06.276093Z"
    }
   },
   "id": "1eff1bfdaed775fd"
  },
  {
   "cell_type": "code",
   "execution_count": 165,
   "outputs": [],
   "source": [
    "def get_history_value(report_item):\n",
    "    report_list = get_diff_list(report_item,[])[::-1]\n",
    "    report_list.append(report_item)\n",
    "    report_list[0].append(0)\n",
    "    for i,report in enumerate(report_list[1:]):\n",
    "        aoc.logger.info(f'{i=} {report[-1]=}')\n",
    "        report_list[i+1].append(report[-1] + report_list[i][-1])\n",
    "    history_value = report_list[-1][-1]\n",
    "    return history_value"
   ],
   "metadata": {
    "collapsed": false,
    "ExecuteTime": {
     "end_time": "2023-12-12T23:44:06.286025Z",
     "start_time": "2023-12-12T23:44:06.283075Z"
    }
   },
   "id": "fb29f57eea38d663"
  },
  {
   "cell_type": "code",
   "execution_count": 166,
   "outputs": [],
   "source": [
    "aoc.logger.setLevel(logging.WARNING)\n",
    "history_value_sum = 0\n",
    "for r in oasis_report:\n",
    "    history_value_sum += get_history_value(r)"
   ],
   "metadata": {
    "collapsed": false,
    "ExecuteTime": {
     "end_time": "2023-12-12T23:44:06.291680Z",
     "start_time": "2023-12-12T23:44:06.287254Z"
    }
   },
   "id": "4f2c87d9569ab67b"
  },
  {
   "cell_type": "code",
   "execution_count": 167,
   "outputs": [
    {
     "data": {
      "text/plain": "114"
     },
     "execution_count": 167,
     "metadata": {},
     "output_type": "execute_result"
    }
   ],
   "source": [
    "history_value_sum"
   ],
   "metadata": {
    "collapsed": false,
    "ExecuteTime": {
     "end_time": "2023-12-12T23:44:06.309907Z",
     "start_time": "2023-12-12T23:44:06.290770Z"
    }
   },
   "id": "a6f37edf4fb3bb8e"
  },
  {
   "cell_type": "markdown",
   "source": [
    "# Part 2"
   ],
   "metadata": {
    "collapsed": false
   },
   "id": "4163eb6ef27d9cb0"
  },
  {
   "cell_type": "markdown",
   "source": [],
   "metadata": {
    "collapsed": false
   },
   "id": "921c5b8b297f5937"
  },
  {
   "cell_type": "code",
   "execution_count": 168,
   "outputs": [],
   "source": [
    "def get_history_value_2(report_item):\n",
    "    report_list = get_diff_list(report_item,[])[::-1]\n",
    "    report_list.append(report_item)\n",
    "    report_list[0].append(0)\n",
    "    for i,report in enumerate(report_list[1:]):\n",
    "        aoc.logger.info(f'{i=} {report[0]=} {report=}')\n",
    "        report_list[i+1].append(report[-1] + report_list[i][-1])\n",
    "    history_value = report_list[-1][-1]\n",
    "    return history_value"
   ],
   "metadata": {
    "collapsed": false,
    "ExecuteTime": {
     "end_time": "2023-12-12T23:44:06.310122Z",
     "start_time": "2023-12-12T23:44:06.295084Z"
    }
   },
   "id": "c9a32db0015d0b85"
  },
  {
   "cell_type": "code",
   "execution_count": 169,
   "outputs": [
    {
     "name": "stderr",
     "output_type": "stream",
     "text": [
      "INFO:AoC:new_sequence=[3, 3, 3, 3, 3, 3]\n",
      "INFO:AoC:new_sequence=[0, 0, 0, 0, 0]\n",
      "INFO:AoC:i=0 report[0]=3 report=[3, 3, 3, 3, 3, 3]\n",
      "INFO:AoC:i=1 report[0]=0 report=[0, 3, 6, 9, 12, 15, 18]\n",
      "INFO:AoC:new_sequence=[2, 3, 4, 5, 6, 7]\n",
      "INFO:AoC:new_sequence=[1, 1, 1, 1, 1]\n",
      "INFO:AoC:new_sequence=[0, 0, 0, 0]\n",
      "INFO:AoC:i=0 report[0]=1 report=[1, 1, 1, 1, 1]\n",
      "INFO:AoC:i=1 report[0]=2 report=[2, 3, 4, 5, 6, 7]\n",
      "INFO:AoC:i=2 report[0]=1 report=[1, 3, 6, 10, 15, 21, 28]\n",
      "INFO:AoC:new_sequence=[3, 3, 5, 9, 15, 23]\n",
      "INFO:AoC:new_sequence=[0, 2, 4, 6, 8]\n",
      "INFO:AoC:new_sequence=[2, 2, 2, 2]\n",
      "INFO:AoC:new_sequence=[0, 0, 0]\n",
      "INFO:AoC:i=0 report[0]=2 report=[2, 2, 2, 2]\n",
      "INFO:AoC:i=1 report[0]=0 report=[0, 2, 4, 6, 8]\n",
      "INFO:AoC:i=2 report[0]=3 report=[3, 3, 5, 9, 15, 23]\n",
      "INFO:AoC:i=3 report[0]=10 report=[10, 13, 16, 21, 30, 45, 68]\n"
     ]
    }
   ],
   "source": [
    "aoc.logger.setLevel(logging.INFO)\n",
    "history_value_sum_2 = 0\n",
    "for r in oasis_report:\n",
    "    history_value_sum_2 += get_history_value_2(r)"
   ],
   "metadata": {
    "collapsed": false,
    "ExecuteTime": {
     "end_time": "2023-12-12T23:44:06.310401Z",
     "start_time": "2023-12-12T23:44:06.297300Z"
    }
   },
   "id": "d5197f3854146a92"
  }
 ],
 "metadata": {
  "kernelspec": {
   "display_name": "Python 3",
   "language": "python",
   "name": "python3"
  },
  "language_info": {
   "codemirror_mode": {
    "name": "ipython",
    "version": 2
   },
   "file_extension": ".py",
   "mimetype": "text/x-python",
   "name": "python",
   "nbconvert_exporter": "python",
   "pygments_lexer": "ipython2",
   "version": "2.7.6"
  }
 },
 "nbformat": 4,
 "nbformat_minor": 5
}
