{
 "cells": [
  {
   "cell_type": "markdown",
   "source": [
    "# Advent of Code 2023, Day 5\n",
    "[Day 5 Challenge](https://adventofcode.com/2023/day/5)"
   ],
   "metadata": {
    "collapsed": false
   },
   "id": "bba3af35a9b6b650"
  },
  {
   "cell_type": "code",
   "execution_count": 67,
   "outputs": [],
   "source": [
    "import aoc\n",
    "%reload_ext autoreload"
   ],
   "metadata": {
    "collapsed": false,
    "pycharm": {
     "is_executing": true
    },
    "ExecuteTime": {
     "end_time": "2023-12-06T15:09:22.270112Z",
     "start_time": "2023-12-06T15:09:22.210916Z"
    }
   },
   "id": "eef7f146fa89f88c"
  },
  {
   "cell_type": "code",
   "execution_count": 68,
   "outputs": [],
   "source": [
    "input_list = aoc.split_contents(aoc.read_input('Input/day_05_sample.txt'))"
   ],
   "metadata": {
    "collapsed": false,
    "ExecuteTime": {
     "end_time": "2023-12-06T15:09:22.270780Z",
     "start_time": "2023-12-06T15:09:22.246666Z"
    }
   },
   "id": "d2e173d51cad25e1"
  },
  {
   "cell_type": "markdown",
   "source": [
    "# Part 1"
   ],
   "metadata": {
    "collapsed": false
   },
   "id": "f1d296368c45d090"
  },
  {
   "cell_type": "code",
   "execution_count": 69,
   "outputs": [],
   "source": [
    "# Parse the first line (seeds) to create a list of integer seeds\n",
    "seed_list_string = input_list[0].split(':')[1].split()\n",
    "seed_list = [int(seed) for seed in seed_list_string]"
   ],
   "metadata": {
    "collapsed": false,
    "ExecuteTime": {
     "end_time": "2023-12-06T15:09:22.271125Z",
     "start_time": "2023-12-06T15:09:22.249402Z"
    }
   },
   "id": "5a8982d25e09fccd"
  },
  {
   "cell_type": "code",
   "execution_count": 70,
   "outputs": [],
   "source": [
    "# Parse the input for maps\n",
    "map_dict = dict()\n",
    "map_names = list()\n",
    "for i, input_line in enumerate(input_list):\n",
    "    if input_line[-4:] == 'map:':\n",
    "        aoc.logger.info(f'{i=} {input_line[0:-5]}')\n",
    "        map_dict[input_line[0:-5]] = i\n",
    "        map_names.append(input_line[0:-5])  "
   ],
   "metadata": {
    "collapsed": false,
    "ExecuteTime": {
     "end_time": "2023-12-06T15:09:22.271649Z",
     "start_time": "2023-12-06T15:09:22.252511Z"
    }
   },
   "id": "30b234e3d67f978a"
  },
  {
   "cell_type": "code",
   "execution_count": 71,
   "outputs": [],
   "source": [
    "def get_mapping(map_name):\n",
    "    start_row = map_dict[map_name]\n",
    "    mapping_list = list()\n",
    "    for i, input_line in enumerate(input_list[start_row+1:]):\n",
    "        if len(input_line) == 0:\n",
    "            break\n",
    "        items = [int(x) for x in input_line.split()]\n",
    "        aoc.logger.info(f'{i=} {items=}')\n",
    "        \n",
    "        map_offset = [items[0] - items[1]]\n",
    "        map_range = [items[1], items[1]+items[2]-1]\n",
    "        mapping_list.append(map_range + map_offset)\n",
    "        aoc.logger.info(f'{map_offset=} {map_range=}')\n",
    "        \n",
    "    return mapping_list"
   ],
   "metadata": {
    "collapsed": false,
    "ExecuteTime": {
     "end_time": "2023-12-06T15:09:22.272155Z",
     "start_time": "2023-12-06T15:09:22.258525Z"
    }
   },
   "id": "d7f1d48d94b4be6"
  },
  {
   "cell_type": "code",
   "execution_count": 72,
   "outputs": [],
   "source": [
    "aoc.logger.setLevel(30)\n",
    "all_maps_dict = dict()\n",
    "for map_item in map_names:\n",
    "    all_maps_dict[map_item] = get_mapping(map_name=map_item)"
   ],
   "metadata": {
    "collapsed": false,
    "ExecuteTime": {
     "end_time": "2023-12-06T15:09:22.272254Z",
     "start_time": "2023-12-06T15:09:22.262706Z"
    }
   },
   "id": "51aed87081c8761d"
  },
  {
   "cell_type": "code",
   "execution_count": 91,
   "outputs": [],
   "source": [
    "def get_mapped_value(value_to_map, mapping_dict):\n",
    "    mapped_value = value_to_map\n",
    "    for map_line in all_maps_dict[mapping_dict]:\n",
    "        if map_line[0] <= value_to_map <= map_line[1]:\n",
    "            mapped_value = value_to_map + map_line[2]\n",
    "            break\n",
    "    return mapped_value "
   ],
   "metadata": {
    "collapsed": false,
    "ExecuteTime": {
     "end_time": "2023-12-06T15:12:42.179825Z",
     "start_time": "2023-12-06T15:12:42.176545Z"
    }
   },
   "id": "69f74c8cd205e14e"
  },
  {
   "cell_type": "code",
   "execution_count": 92,
   "outputs": [],
   "source": [
    "def get_location_for_seed(s):\n",
    "    soil = get_mapped_value(s, 'seed-to-soil')\n",
    "    fertilizer = get_mapped_value(soil, 'soil-to-fertilizer')\n",
    "    water = get_mapped_value(fertilizer, 'fertilizer-to-water')\n",
    "    light = get_mapped_value(water, 'water-to-light')\n",
    "    temperature = get_mapped_value(light, 'light-to-temperature')\n",
    "    humidity = get_mapped_value(temperature, 'temperature-to-humidity')\n",
    "    location = get_mapped_value(humidity, 'humidity-to-location')\n",
    "    return location"
   ],
   "metadata": {
    "collapsed": false,
    "ExecuteTime": {
     "end_time": "2023-12-06T15:12:42.750823Z",
     "start_time": "2023-12-06T15:12:42.742891Z"
    }
   },
   "id": "395cfc05d74375ba"
  },
  {
   "cell_type": "code",
   "execution_count": 93,
   "outputs": [],
   "source": [
    "aoc.logger.setLevel(30)\n",
    "def get_lowest_location(s_list):\n",
    "    lowest_location = 1e10\n",
    "    for seed in s_list: \n",
    "        lowest_location = min(get_location_for_seed(seed), lowest_location)\n",
    "    return lowest_location"
   ],
   "metadata": {
    "collapsed": false,
    "ExecuteTime": {
     "end_time": "2023-12-06T15:12:43.183942Z",
     "start_time": "2023-12-06T15:12:43.181236Z"
    }
   },
   "id": "4aa703d73ec564b"
  },
  {
   "cell_type": "code",
   "execution_count": 94,
   "outputs": [
    {
     "data": {
      "text/plain": "35"
     },
     "execution_count": 94,
     "metadata": {},
     "output_type": "execute_result"
    }
   ],
   "source": [
    "get_lowest_location(seed_list)"
   ],
   "metadata": {
    "collapsed": false,
    "ExecuteTime": {
     "end_time": "2023-12-06T15:12:44.207690Z",
     "start_time": "2023-12-06T15:12:44.190309Z"
    }
   },
   "id": "15a15f851d839d5b"
  },
  {
   "cell_type": "markdown",
   "source": [
    "# Part 2"
   ],
   "metadata": {
    "collapsed": false
   },
   "id": "749fab6af51c5768"
  },
  {
   "cell_type": "code",
   "execution_count": 95,
   "outputs": [
    {
     "data": {
      "text/plain": "['79', '14', '55', '13']"
     },
     "execution_count": 95,
     "metadata": {},
     "output_type": "execute_result"
    }
   ],
   "source": [
    "seed_list_string"
   ],
   "metadata": {
    "collapsed": false,
    "ExecuteTime": {
     "end_time": "2023-12-06T15:12:45.582109Z",
     "start_time": "2023-12-06T15:12:45.579721Z"
    }
   },
   "id": "e82deffa25718d4d"
  },
  {
   "cell_type": "code",
   "execution_count": 96,
   "outputs": [],
   "source": [
    "seed_list_p2 = list()\n",
    "for i in range(0, len(seed_list_string), 2):\n",
    "    seed_start = int(seed_list_string[i])\n",
    "    for j in range(0, int(seed_list_string[i+1])):\n",
    "        seed_list_p2.append(seed_start+j)"
   ],
   "metadata": {
    "collapsed": false,
    "ExecuteTime": {
     "end_time": "2023-12-06T15:12:46.205018Z",
     "start_time": "2023-12-06T15:12:46.195232Z"
    }
   },
   "id": "cc610b75121a90de"
  },
  {
   "cell_type": "code",
   "execution_count": 97,
   "outputs": [
    {
     "data": {
      "text/plain": "46"
     },
     "execution_count": 97,
     "metadata": {},
     "output_type": "execute_result"
    }
   ],
   "source": [
    "get_lowest_location(seed_list_p2)"
   ],
   "metadata": {
    "collapsed": false,
    "ExecuteTime": {
     "end_time": "2023-12-06T15:12:47.270845Z",
     "start_time": "2023-12-06T15:12:47.264875Z"
    }
   },
   "id": "98f8a5fa69f06a8b"
  },
  {
   "cell_type": "code",
   "execution_count": 100,
   "outputs": [
    {
     "data": {
      "text/plain": "[[56, 92, 4], [93, 96, -37]]"
     },
     "execution_count": 100,
     "metadata": {},
     "output_type": "execute_result"
    }
   ],
   "source": [
    "all_maps_dict['humidity-to-location']"
   ],
   "metadata": {
    "collapsed": false,
    "ExecuteTime": {
     "end_time": "2023-12-06T15:22:33.271511Z",
     "start_time": "2023-12-06T15:22:33.268146Z"
    }
   },
   "id": "8e25990fc668fe09"
  },
  {
   "cell_type": "code",
   "execution_count": 99,
   "outputs": [
    {
     "name": "stderr",
     "output_type": "stream",
     "text": [
      "INFO:AoC:sd=79 get_location_for_seed(sd)=82\n",
      "INFO:AoC:sd=80 get_location_for_seed(sd)=83\n",
      "INFO:AoC:sd=81 get_location_for_seed(sd)=84\n",
      "INFO:AoC:sd=82 get_location_for_seed(sd)=46\n",
      "INFO:AoC:sd=83 get_location_for_seed(sd)=47\n",
      "INFO:AoC:sd=84 get_location_for_seed(sd)=48\n",
      "INFO:AoC:sd=85 get_location_for_seed(sd)=49\n",
      "INFO:AoC:sd=86 get_location_for_seed(sd)=50\n",
      "INFO:AoC:sd=87 get_location_for_seed(sd)=51\n",
      "INFO:AoC:sd=88 get_location_for_seed(sd)=52\n",
      "INFO:AoC:sd=89 get_location_for_seed(sd)=53\n",
      "INFO:AoC:sd=90 get_location_for_seed(sd)=54\n",
      "INFO:AoC:sd=91 get_location_for_seed(sd)=55\n",
      "INFO:AoC:sd=92 get_location_for_seed(sd)=60\n",
      "INFO:AoC:sd=93 get_location_for_seed(sd)=68\n"
     ]
    }
   ],
   "source": [
    "aoc.logger.setLevel(10)\n",
    "for sd in range(79,94):\n",
    "    aoc.logger.info(f'{sd=} {get_location_for_seed(sd)=}')"
   ],
   "metadata": {
    "collapsed": false,
    "ExecuteTime": {
     "end_time": "2023-12-06T15:12:48.921730Z",
     "start_time": "2023-12-06T15:12:48.912371Z"
    }
   },
   "id": "9f3e36dd8bf5551"
  },
  {
   "cell_type": "code",
   "execution_count": null,
   "outputs": [],
   "source": [],
   "metadata": {
    "collapsed": false
   },
   "id": "b5583783a96a5725"
  }
 ],
 "metadata": {
  "kernelspec": {
   "display_name": "Python 3",
   "language": "python",
   "name": "python3"
  },
  "language_info": {
   "codemirror_mode": {
    "name": "ipython",
    "version": 2
   },
   "file_extension": ".py",
   "mimetype": "text/x-python",
   "name": "python",
   "nbconvert_exporter": "python",
   "pygments_lexer": "ipython2",
   "version": "2.7.6"
  }
 },
 "nbformat": 4,
 "nbformat_minor": 5
}
