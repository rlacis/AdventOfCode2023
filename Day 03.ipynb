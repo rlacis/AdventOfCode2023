{
 "cells": [
  {
   "cell_type": "markdown",
   "source": [
    "# Advent of Code 2023, Day 3\n",
    "[Day 3 Challenge](https://adventofcode.com/2023/day/3)"
   ],
   "metadata": {
    "collapsed": false
   },
   "id": "dac837072f5f3e9b"
  },
  {
   "cell_type": "code",
   "execution_count": 162,
   "outputs": [],
   "source": [
    "import aoc\n",
    "from typing import List\n",
    "%reload_ext autoreload"
   ],
   "metadata": {
    "collapsed": false,
    "ExecuteTime": {
     "end_time": "2023-12-03T15:41:51.160613Z",
     "start_time": "2023-12-03T15:41:51.099781Z"
    }
   },
   "id": "f35e39cf55889761"
  },
  {
   "cell_type": "code",
   "execution_count": 163,
   "outputs": [],
   "source": [
    "# aoc.write_input_file(1, aoc.get_puzzle_input(aoc_day=3,aoc_year=2023))\n",
    "input_list = aoc.split_contents(aoc.read_input('Input/day_03.txt'))"
   ],
   "metadata": {
    "collapsed": false,
    "ExecuteTime": {
     "end_time": "2023-12-03T15:41:51.161061Z",
     "start_time": "2023-12-03T15:41:51.141391Z"
    }
   },
   "id": "78659c3cc33d353b"
  },
  {
   "cell_type": "markdown",
   "source": [
    "# Part 1"
   ],
   "metadata": {
    "collapsed": false
   },
   "id": "255fcd617d60c1d9"
  },
  {
   "cell_type": "code",
   "execution_count": 164,
   "outputs": [],
   "source": [
    "map_width = len(input_list[0])\n",
    "map_height = len(input_list)\n",
    "symbol_list = list()\n",
    "symbol_map = list()\n",
    "part_map = list()\n",
    "row = 0\n",
    "for item in input_list:\n",
    "    col = 0\n",
    "    part_number = 0\n",
    "    part_number_start_pos = None\n",
    "    for element in item:\n",
    "        if element.isdigit():\n",
    "            if part_number_start_pos is None:\n",
    "                part_number_start_pos = col\n",
    "            part_number = part_number * 10 + int(element)\n",
    "        else:\n",
    "            if part_number > 0:\n",
    "                part_map.append([part_number, (row, part_number_start_pos), (row, col-1)])\n",
    "            part_number = 0\n",
    "            part_number_start_pos = None\n",
    "            if element != '.':\n",
    "                symbol_list.append(element)\n",
    "                symbol_map.append((row,col))\n",
    "        col += 1\n",
    "    if part_number > 0:\n",
    "        part_map.append([part_number, (row, part_number_start_pos), (row, col-1)])\n",
    "    row += 1\n",
    "symbol_list = list(set(symbol_list))"
   ],
   "metadata": {
    "collapsed": false,
    "ExecuteTime": {
     "end_time": "2023-12-03T15:41:51.161121Z",
     "start_time": "2023-12-03T15:41:51.151757Z"
    }
   },
   "id": "b703accf245d8d98"
  },
  {
   "cell_type": "code",
   "execution_count": 165,
   "outputs": [],
   "source": [
    "def check_part(part: List) -> bool:\n",
    "    valid_part = False\n",
    "    scan_start = (max(0,part[1][0]-1), max(0,part[1][1]-1))\n",
    "    scan_end = (min(map_width-1, part[2][0]+1), min(map_height-1,part[2][1]+1))\n",
    "    for scan_row in range(scan_start[0],scan_end[0]+1):\n",
    "        for scan_col in range(scan_start[1], scan_end[1]+1):\n",
    "            if (scan_row, scan_col) in symbol_map:\n",
    "                valid_part = True\n",
    "    return valid_part"
   ],
   "metadata": {
    "collapsed": false,
    "ExecuteTime": {
     "end_time": "2023-12-03T15:41:51.161154Z",
     "start_time": "2023-12-03T15:41:51.155088Z"
    }
   },
   "id": "31e827d907252485"
  },
  {
   "cell_type": "code",
   "execution_count": 166,
   "outputs": [],
   "source": [
    "part_number_sum = 0\n",
    "for part_to_check in part_map:\n",
    "    if check_part(part_to_check):\n",
    "        part_number_sum += part_to_check[0]"
   ],
   "metadata": {
    "collapsed": false,
    "ExecuteTime": {
     "end_time": "2023-12-03T15:41:51.280325Z",
     "start_time": "2023-12-03T15:41:51.163599Z"
    }
   },
   "id": "d07c28354f575061"
  },
  {
   "cell_type": "code",
   "execution_count": 167,
   "outputs": [
    {
     "data": {
      "text/plain": "538046"
     },
     "execution_count": 167,
     "metadata": {},
     "output_type": "execute_result"
    }
   ],
   "source": [
    "part_number_sum"
   ],
   "metadata": {
    "collapsed": false,
    "ExecuteTime": {
     "end_time": "2023-12-03T15:41:51.283726Z",
     "start_time": "2023-12-03T15:41:51.280764Z"
    }
   },
   "id": "df435c3f9704ec0a"
  },
  {
   "cell_type": "markdown",
   "source": [
    "# Part 2"
   ],
   "metadata": {
    "collapsed": false
   },
   "id": "c4f2b8418eaa7544"
  },
  {
   "cell_type": "code",
   "execution_count": 168,
   "outputs": [],
   "source": [
    "# build a map of just the gears\n",
    "gear_map = list()\n",
    "for symbol in symbol_map:\n",
    "    if input_list[symbol[0]][symbol[1]]=='*':\n",
    "        gear_map.append(symbol)"
   ],
   "metadata": {
    "collapsed": false,
    "ExecuteTime": {
     "end_time": "2023-12-03T15:41:51.286641Z",
     "start_time": "2023-12-03T15:41:51.283867Z"
    }
   },
   "id": "b16789f18adcc815"
  },
  {
   "cell_type": "code",
   "execution_count": 169,
   "outputs": [],
   "source": [
    "def get_list_of_adjacent_parts(gear):\n",
    "    gear_scan_start = (max(0,gear[0]-1), max(0,gear[1]-1))\n",
    "    gear_scan_end = (min(map_width-1, gear[0]+1), min(map_height-1,gear[1]+1))\n",
    "    part_gear_list = list()\n",
    "    for ptc in part_map:\n",
    "        part_is_adjacent = False\n",
    "        for gear_scan_row in range(gear_scan_start[0], gear_scan_end[0]+1):\n",
    "            for gear_scan_col in range(gear_scan_start[1], gear_scan_end[1]+1):\n",
    "                if ptc[1][0] == gear_scan_row and (ptc[1][1] <= gear_scan_col <= ptc[2][1]) and not part_is_adjacent:\n",
    "                    # aoc.logger.info(f'{ptc} is adjacent')\n",
    "                    part_is_adjacent = True\n",
    "                    part_gear_list.append(ptc)\n",
    "    return part_gear_list"
   ],
   "metadata": {
    "collapsed": false,
    "ExecuteTime": {
     "end_time": "2023-12-03T15:41:51.289417Z",
     "start_time": "2023-12-03T15:41:51.286744Z"
    }
   },
   "id": "c577044e22f9b6b5"
  },
  {
   "cell_type": "code",
   "execution_count": 170,
   "outputs": [],
   "source": [
    "gear_ratio_sum = 0\n",
    "for g in gear_map:\n",
    "    gal = get_list_of_adjacent_parts(g)\n",
    "    if len(gal) == 2:\n",
    "        gear_ratio_sum += gal[0][0] * gal[1][0]"
   ],
   "metadata": {
    "collapsed": false,
    "ExecuteTime": {
     "end_time": "2023-12-03T15:41:51.485595Z",
     "start_time": "2023-12-03T15:41:51.350430Z"
    }
   },
   "id": "ad1e5de4b4285bc2"
  },
  {
   "cell_type": "code",
   "execution_count": 171,
   "outputs": [
    {
     "data": {
      "text/plain": "81709807"
     },
     "execution_count": 171,
     "metadata": {},
     "output_type": "execute_result"
    }
   ],
   "source": [
    "gear_ratio_sum"
   ],
   "metadata": {
    "collapsed": false,
    "ExecuteTime": {
     "end_time": "2023-12-03T15:41:51.488561Z",
     "start_time": "2023-12-03T15:41:51.486075Z"
    }
   },
   "id": "1a1a1d71838d1c94"
  }
 ],
 "metadata": {
  "kernelspec": {
   "display_name": "Python 3",
   "language": "python",
   "name": "python3"
  },
  "language_info": {
   "codemirror_mode": {
    "name": "ipython",
    "version": 2
   },
   "file_extension": ".py",
   "mimetype": "text/x-python",
   "name": "python",
   "nbconvert_exporter": "python",
   "pygments_lexer": "ipython2",
   "version": "2.7.6"
  }
 },
 "nbformat": 4,
 "nbformat_minor": 5
}
