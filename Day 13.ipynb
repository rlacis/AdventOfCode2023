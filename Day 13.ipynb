{
 "cells": [
  {
   "cell_type": "code",
   "execution_count": 305,
   "outputs": [],
   "source": [
    "import aoc\n",
    "import logging\n",
    "import numpy as np\n",
    "import scipy\n",
    "import matplotlib as mpl\n",
    "import matplotlib.pyplot as plt\n",
    "import itertools\n",
    "import math\n",
    "from typing import List\n",
    "%reload_ext autoreload\n",
    "\n",
    "day = 13\n",
    "sample = False\n",
    "sample_number = 1"
   ],
   "metadata": {
    "collapsed": false
   }
  },
  {
   "cell_type": "code",
   "execution_count": 306,
   "outputs": [],
   "source": [
    "input_list = aoc.split_contents(aoc.read_input(f'Input/day_{day:02}{\"_sample\"+str(sample_number) if sample else \"\"}.txt'))"
   ],
   "metadata": {
    "collapsed": false
   }
  },
  {
   "cell_type": "markdown",
   "source": [
    "# Part 1"
   ],
   "metadata": {
    "collapsed": false
   }
  },
  {
   "cell_type": "code",
   "execution_count": 307,
   "outputs": [],
   "source": [
    "pattern = list()\n",
    "pattern_list = list()\n",
    "# build a list of 2D arrays for each pattern\n",
    "for i,row in enumerate(input_list):\n",
    "    if len(row) == 0 and i != 0:\n",
    "        pattern_list.append(np.array(pattern))\n",
    "        pattern = []\n",
    "    else:\n",
    "        pattern.append([x for x in row])\n",
    "pattern_list.append(np.array(pattern))"
   ],
   "metadata": {
    "collapsed": false
   }
  },
  {
   "cell_type": "code",
   "execution_count": 308,
   "outputs": [],
   "source": [
    "def pretty_print(array):\n",
    "    for elem in array:\n",
    "        print(''.join(elem))"
   ],
   "metadata": {
    "collapsed": false
   }
  },
  {
   "cell_type": "code",
   "execution_count": 309,
   "outputs": [],
   "source": [
    "def find_matching_columns(array):\n",
    "    candidates = list()\n",
    "    for col in range(len(array.T)-1):\n",
    "        if np.array_equal(array[:,col], array[:,col+1]):\n",
    "            candidates.append([col,col+1])\n",
    "    return candidates\n",
    "\n",
    "def find_matching_rows(array):\n",
    "    candidates = list()\n",
    "    for row in range(len(array)-1):\n",
    "        if np.array_equal(array[row,:], array[row+1,:]):\n",
    "            candidates.append([row,row+1])\n",
    "    return candidates\n",
    "\n",
    "def split_pattern_on_column(array, column_to_split_along):\n",
    "    p_left = np.split(array, [column_to_split_along], 1)[0]\n",
    "    p_right = np.split(array, [column_to_split_along], 1)[1]\n",
    "    return np.fliplr(p_left), p_right\n",
    "\n",
    "def split_pattern_on_row(array, row_to_split_along):\n",
    "    p_up = np.split(array, [row_to_split_along], 0)[0]\n",
    "    p_down = np.split(array, [row_to_split_along], 0)[1]\n",
    "    return np.flipud(p_up), p_down"
   ],
   "metadata": {
    "collapsed": false
   }
  },
  {
   "cell_type": "code",
   "execution_count": 310,
   "outputs": [],
   "source": [
    "aoc.logger.setLevel(30)\n",
    "summarized_value = 0\n",
    "reflection_solutions = dict()  # used in Part 2\n",
    "for i, p in enumerate(pattern_list):\n",
    "    # We only need to consider the cases with adjacent rows or columns are equal to check for reflections.\n",
    "    row_candidates = find_matching_rows(p)\n",
    "    col_candidates = find_matching_columns(p)\n",
    "    aoc.logger.info(f'{row_candidates=} {col_candidates=}')\n",
    "\n",
    "    for col_candidate in col_candidates:\n",
    "        array_l, array_r = split_pattern_on_column(p, col_candidate[1])\n",
    "        narrowest_array = min(len(array_l.T), len(array_r.T))\n",
    "        # check if the trimmed and reflected arrays are equal\n",
    "        if np.array_equal(np.split(array_l,[narrowest_array],1)[0],\n",
    "                          np.split(array_r,[narrowest_array],1)[0]):\n",
    "            aoc.logger.info(f'Pattern: {i} vertical reflection found. {col_candidate[1]} columns to the left.')\n",
    "            summarized_value += col_candidate[1]\n",
    "            reflection_solutions[i] = ['V', col_candidate[1]]\n",
    "\n",
    "    for row_candidate in row_candidates:\n",
    "        array_u, array_d = split_pattern_on_row(p, row_candidate[1])\n",
    "        shortest_array = min(len(array_u), len(array_d))\n",
    "        if np.array_equal(np.split(array_u,[shortest_array],0)[0],\n",
    "                          np.split(array_d,[shortest_array],0)[0]):\n",
    "            aoc.logger.info(f'Pattern: {i} horizontal reflection found. {row_candidate[1]} rows above.')\n",
    "            summarized_value += 100 * row_candidate[1]\n",
    "            reflection_solutions[i] = ['H', row_candidate[1]]"
   ],
   "metadata": {
    "collapsed": false
   }
  },
  {
   "cell_type": "code",
   "execution_count": 311,
   "outputs": [
    {
     "data": {
      "text/plain": "27300"
     },
     "execution_count": 311,
     "metadata": {},
     "output_type": "execute_result"
    }
   ],
   "source": [
    "summarized_value"
   ],
   "metadata": {
    "collapsed": false
   }
  },
  {
   "cell_type": "markdown",
   "source": [
    "# Part 2"
   ],
   "metadata": {
    "collapsed": false
   }
  },
  {
   "cell_type": "code",
   "execution_count": 312,
   "outputs": [
    {
     "data": {
      "text/plain": "{0: ['H', 3],\n 1: ['H', 3],\n 2: ['H', 4],\n 3: ['H', 4],\n 4: ['V', 12],\n 5: ['H', 1],\n 6: ['V', 16],\n 7: ['H', 7],\n 8: ['H', 10],\n 9: ['H', 12],\n 10: ['H', 1],\n 11: ['H', 1],\n 12: ['H', 15],\n 13: ['V', 8],\n 14: ['H', 6],\n 15: ['V', 12],\n 16: ['H', 10],\n 17: ['V', 14],\n 18: ['V', 16],\n 19: ['V', 13],\n 20: ['V', 1],\n 21: ['H', 3],\n 22: ['V', 1],\n 23: ['H', 16],\n 24: ['H', 1],\n 25: ['H', 4],\n 26: ['V', 6],\n 27: ['H', 7],\n 28: ['V', 12],\n 29: ['H', 9],\n 30: ['V', 14],\n 31: ['V', 12],\n 32: ['V', 13],\n 33: ['V', 8],\n 34: ['H', 1],\n 35: ['V', 2],\n 36: ['V', 10],\n 37: ['V', 1],\n 38: ['V', 12],\n 39: ['V', 1],\n 40: ['V', 2],\n 41: ['V', 12],\n 42: ['H', 7],\n 43: ['V', 3],\n 44: ['V', 12],\n 45: ['H', 8],\n 46: ['H', 2],\n 47: ['V', 14],\n 48: ['H', 2],\n 49: ['H', 9],\n 50: ['H', 1],\n 51: ['V', 15],\n 52: ['H', 10],\n 53: ['V', 12],\n 54: ['H', 1],\n 55: ['H', 6],\n 56: ['H', 6],\n 57: ['V', 11],\n 58: ['H', 3],\n 59: ['V', 6],\n 60: ['V', 4],\n 61: ['H', 1],\n 62: ['V', 3],\n 63: ['H', 4],\n 64: ['H', 15],\n 65: ['H', 12],\n 66: ['H', 9],\n 67: ['H', 2],\n 68: ['V', 12],\n 69: ['H', 1],\n 70: ['H', 11],\n 71: ['H', 4],\n 72: ['H', 2],\n 73: ['H', 1],\n 74: ['H', 3],\n 75: ['V', 2],\n 76: ['H', 1],\n 77: ['V', 12],\n 78: ['V', 1],\n 79: ['H', 6],\n 80: ['V', 15],\n 81: ['V', 16],\n 82: ['H', 7],\n 83: ['V', 10],\n 84: ['H', 4],\n 85: ['V', 14],\n 86: ['H', 2],\n 87: ['V', 3],\n 88: ['H', 3],\n 89: ['V', 1],\n 90: ['H', 1],\n 91: ['V', 1],\n 92: ['H', 1],\n 93: ['V', 11],\n 94: ['V', 1],\n 95: ['V', 6],\n 96: ['V', 1],\n 97: ['H', 3],\n 98: ['H', 3],\n 99: ['V', 16]}"
     },
     "execution_count": 312,
     "metadata": {},
     "output_type": "execute_result"
    }
   ],
   "source": [
    "reflection_solutions"
   ],
   "metadata": {
    "collapsed": false
   }
  },
  {
   "cell_type": "code",
   "execution_count": 313,
   "outputs": [],
   "source": [
    "aoc.logger.setLevel(30)\n",
    "summarized_value = 0\n",
    "for i, p2 in enumerate(pattern_list):\n",
    "    reflection_found = False\n",
    "    for x in range(len(p2.T)):\n",
    "        for y in range(len(p2)):\n",
    "            p = np.copy(p2)\n",
    "            if p2[y][x] == '#':\n",
    "                p[y][x] = '.'\n",
    "            else:\n",
    "                p[y][x] = '#'\n",
    "\n",
    "            # We only need to consider the cases with adjacent rows or columns are equal to check for reflections.\n",
    "            row_candidates = find_matching_rows(p)\n",
    "            col_candidates = find_matching_columns(p)\n",
    "            aoc.logger.info(f'{x=} {y=} {row_candidates=} {col_candidates=}')\n",
    "\n",
    "            for col_candidate in col_candidates:\n",
    "                array_l, array_r = split_pattern_on_column(p, col_candidate[1])\n",
    "                narrowest_array = min(len(array_l.T), len(array_r.T))\n",
    "                # check if the trimmed and reflected arrays are equal\n",
    "                if np.array_equal(np.split(array_l,[narrowest_array],1)[0],\n",
    "                                  np.split(array_r,[narrowest_array],1)[0]):\n",
    "                    aoc.logger.info(f'Pattern: {i} vertical reflection found. {col_candidate[1]} columns to the left.')\n",
    "                    if ((reflection_solutions[i][0] == 'V' and col_candidate[1] != reflection_solutions[i][1])\n",
    "                            or reflection_solutions[i][0] == 'H'):\n",
    "                        summarized_value += col_candidate[1]\n",
    "                        reflection_found = True\n",
    "\n",
    "            for row_candidate in row_candidates:\n",
    "                array_u, array_d = split_pattern_on_row(p, row_candidate[1])\n",
    "                shortest_array = min(len(array_u), len(array_d))\n",
    "                if np.array_equal(np.split(array_u,[shortest_array],0)[0],\n",
    "                                  np.split(array_d,[shortest_array],0)[0]):\n",
    "                    aoc.logger.info(f'Pattern: {i} horizontal reflection found. {row_candidate[1]} rows above.')\n",
    "                    if ((reflection_solutions[i][0] == 'H' and row_candidate[1] != reflection_solutions[i][1])\n",
    "                            or reflection_solutions[i][0] == 'V'):\n",
    "                        summarized_value += 100 * row_candidate[1]\n",
    "                        reflection_found = True\n",
    "\n",
    "            if reflection_found:\n",
    "                break\n",
    "        if reflection_found:\n",
    "            break"
   ],
   "metadata": {
    "collapsed": false
   }
  },
  {
   "cell_type": "code",
   "execution_count": 314,
   "outputs": [
    {
     "data": {
      "text/plain": "29276"
     },
     "execution_count": 314,
     "metadata": {},
     "output_type": "execute_result"
    }
   ],
   "source": [
    "summarized_value"
   ],
   "metadata": {
    "collapsed": false
   }
  }
 ],
 "metadata": {
  "kernelspec": {
   "display_name": "Python 3",
   "language": "python",
   "name": "python3"
  },
  "language_info": {
   "codemirror_mode": {
    "name": "ipython",
    "version": 2
   },
   "file_extension": ".py",
   "mimetype": "text/x-python",
   "name": "python",
   "nbconvert_exporter": "python",
   "pygments_lexer": "ipython2",
   "version": "2.7.6"
  }
 },
 "nbformat": 4,
 "nbformat_minor": 0
}
