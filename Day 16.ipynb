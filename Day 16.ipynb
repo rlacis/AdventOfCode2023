{
 "cells": [
  {
   "cell_type": "code",
   "execution_count": 143,
   "outputs": [],
   "source": [
    "import aoc\n",
    "import numpy as np\n",
    "\n",
    "%reload_ext autoreload\n",
    "\n",
    "day = 16\n",
    "sample = True\n",
    "sample_number = 1"
   ],
   "metadata": {
    "collapsed": false
   }
  },
  {
   "cell_type": "code",
   "execution_count": 144,
   "outputs": [],
   "source": [
    "input_list = aoc.split_contents(aoc.read_input(f'Input/day_{day:02}{\"_sample\"+str(sample_number) if sample else \"\"}.txt'))"
   ],
   "metadata": {
    "collapsed": false
   }
  },
  {
   "cell_type": "markdown",
   "source": [
    "# Part 1"
   ],
   "metadata": {
    "collapsed": false
   }
  },
  {
   "cell_type": "code",
   "execution_count": 145,
   "outputs": [],
   "source": [
    "def pretty_print(array):\n",
    "    # Prints the array with the bottom left corner being 0,0\n",
    "    array_t = array.T\n",
    "    for y in reversed(range(array_t.shape[1])):\n",
    "        print(''.join(array_t[y]))"
   ],
   "metadata": {
    "collapsed": false
   }
  },
  {
   "cell_type": "code",
   "execution_count": 146,
   "outputs": [],
   "source": [
    "# Generate the contraption as a 2d NumPy array, bottom left is 0,0\n",
    "# The y-axis increases up\n",
    "# The x-axis increases right\n",
    "row_list = list()\n",
    "for i,input_row in enumerate(input_list):\n",
    "    row_list.append([x for x in input_row])\n",
    "contraption = np.array(row_list[::-1]).T"
   ],
   "metadata": {
    "collapsed": false
   }
  },
  {
   "cell_type": "code",
   "execution_count": 147,
   "outputs": [
    {
     "name": "stdout",
     "output_type": "stream",
     "text": [
      ".|...\\....\n",
      "|.-.\\.....\n",
      ".....|-...\n",
      "........|.\n",
      "..........\n",
      ".........\\\n",
      "..../.\\\\..\n",
      ".-.-/..|..\n",
      ".|....-|.\\\n",
      "..//.|....\n"
     ]
    }
   ],
   "source": [
    "pretty_print(contraption)"
   ],
   "metadata": {
    "collapsed": false
   }
  },
  {
   "cell_type": "markdown",
   "source": [
    "Beam direction is in degrees. Up is 0, right is 90, down is 180, and left is 270."
   ],
   "metadata": {
    "collapsed": false
   }
  },
  {
   "cell_type": "code",
   "execution_count": 148,
   "outputs": [],
   "source": [
    "beams = dict()\n",
    "beams[0] = {'start': (0,contraption.shape[1]-1), 'current_direction': 90, 'path':[(0,contraption.shape[1]-1)]}"
   ],
   "metadata": {
    "collapsed": false
   }
  },
  {
   "cell_type": "code",
   "execution_count": 158,
   "outputs": [],
   "source": [
    "def get_object(vector, direction, coord):\n",
    "    vector_list = list(vector)\n",
    "    for index in range(len(vector_list)):\n",
    "        aoc.logger.info(f'{vector_list=}')\n",
    "        if vector_list[0] == '.':\n",
    "            vector_list.pop(0)\n",
    "        else:\n",
    "            obj = vector_list[0]\n",
    "            break\n",
    "\n",
    "    match direction:\n",
    "        case 0:\n",
    "            x,y = coord[0], index\n",
    "        case 90:\n",
    "            x,y = index, coord[1]\n",
    "        case 180:\n",
    "            x,y = coord[0], contraption.shape[1]-index\n",
    "        case 270:\n",
    "            x,y = contraption.shape[0]-index, coord[1]\n",
    "    return x,y\n",
    "\n",
    "\n",
    "def follow_path(beam):\n",
    "    match beam['current_direction']:\n",
    "        case 0:\n",
    "            beam_vector = contraption[beam['start'][0],:]\n",
    "        case 90:\n",
    "            beam_vector = contraption[:,beam['start'][1]]\n",
    "        case 180:\n",
    "            beam_vector = contraption[beam['start'][0],::-1]\n",
    "        case 270:\n",
    "            beam_vector = contraption[::-1,beam['start'][1]]\n",
    "\n",
    "    coord = get_object(beam_vector, beam['current_direction'], beam['start'])\n",
    "    aoc.logger.info(f'{beam_vector=} {coord=}')"
   ],
   "metadata": {
    "collapsed": false
   }
  },
  {
   "cell_type": "code",
   "execution_count": 159,
   "outputs": [
    {
     "name": "stderr",
     "output_type": "stream",
     "text": [
      "INFO:AoC:vector_list=['.', '|', '.', '.', '.', '\\\\', '.', '.', '.', '.']\n",
      "INFO:AoC:vector_list=['|', '.', '.', '.', '\\\\', '.', '.', '.', '.']\n",
      "INFO:AoC:beam_vector=array(['.', '|', '.', '.', '.', '\\\\', '.', '.', '.', '.'], dtype='<U1') coord=(1, 9)\n"
     ]
    }
   ],
   "source": [
    "follow_path(beams[0])"
   ],
   "metadata": {
    "collapsed": false
   }
  },
  {
   "cell_type": "code",
   "execution_count": 151,
   "outputs": [
    {
     "data": {
      "text/plain": "array(['.', '|', '.', '.', '.', '\\\\', '.', '.', '.', '.'], dtype='<U1')"
     },
     "execution_count": 151,
     "metadata": {},
     "output_type": "execute_result"
    }
   ],
   "source": [
    "contraption[:,9]"
   ],
   "metadata": {
    "collapsed": false
   }
  },
  {
   "cell_type": "code",
   "execution_count": 152,
   "outputs": [],
   "source": [
    "step_counter = 0\n",
    "while True:\n",
    "    step_counter += 1\n",
    "    if step_counter > 10:\n",
    "        break"
   ],
   "metadata": {
    "collapsed": false
   }
  },
  {
   "cell_type": "code",
   "execution_count": 153,
   "outputs": [
    {
     "name": "stdout",
     "output_type": "stream",
     "text": [
      ".|...\\....\n",
      "|.-.\\.....\n",
      ".....|-...\n",
      "........|.\n",
      "..........\n",
      ".........\\\n",
      "..../.\\\\..\n",
      ".-.-/..|..\n",
      ".|....-|.\\\n",
      "..//.|....\n"
     ]
    }
   ],
   "source": [
    "pretty_print(contraption)"
   ],
   "metadata": {
    "collapsed": false
   }
  },
  {
   "cell_type": "code",
   "execution_count": 153,
   "outputs": [],
   "source": [],
   "metadata": {
    "collapsed": false
   }
  }
 ],
 "metadata": {
  "kernelspec": {
   "display_name": "Python 3",
   "language": "python",
   "name": "python3"
  },
  "language_info": {
   "codemirror_mode": {
    "name": "ipython",
    "version": 2
   },
   "file_extension": ".py",
   "mimetype": "text/x-python",
   "name": "python",
   "nbconvert_exporter": "python",
   "pygments_lexer": "ipython2",
   "version": "2.7.6"
  }
 },
 "nbformat": 4,
 "nbformat_minor": 0
}
