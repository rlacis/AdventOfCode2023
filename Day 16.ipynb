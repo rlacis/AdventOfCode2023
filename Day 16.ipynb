{
 "cells": [
  {
   "cell_type": "markdown",
   "source": [
    "# Advent of Code 2023, Day 16\n",
    "[Day 16 Challenge](https://adventofcode.com/2023/day/16)"
   ],
   "metadata": {
    "collapsed": false
   }
  },
  {
   "cell_type": "code",
   "outputs": [],
   "source": [
    "import aoc\n",
    "import numpy as np\n",
    "\n",
    "%reload_ext autoreload\n",
    "\n",
    "day = 16\n",
    "sample = True\n",
    "sample_number = 1"
   ],
   "metadata": {
    "collapsed": false
   },
   "execution_count": 605
  },
  {
   "cell_type": "code",
   "execution_count": 606,
   "outputs": [],
   "source": [
    "input_list = aoc.split_contents(aoc.read_input(f'Input/day_{day:02}{\"_sample\"+str(sample_number) if sample else \"\"}.txt'))"
   ],
   "metadata": {
    "collapsed": false,
    "ExecuteTime": {
     "end_time": "2023-12-29T18:21:20.225759Z",
     "start_time": "2023-12-29T18:21:20.211012Z"
    }
   }
  },
  {
   "cell_type": "markdown",
   "source": [
    "# Part 1"
   ],
   "metadata": {
    "collapsed": false
   }
  },
  {
   "cell_type": "code",
   "execution_count": 607,
   "outputs": [],
   "source": [
    "def pretty_print(array):\n",
    "    # Prints the array with the bottom left corner being 0,0\n",
    "    array_t = array.T\n",
    "    print('*' * array_t.shape[1])\n",
    "    for y in reversed(range(array_t.shape[1])):\n",
    "        print(''.join(array_t[y]))"
   ],
   "metadata": {
    "collapsed": false,
    "ExecuteTime": {
     "end_time": "2023-12-29T18:21:20.226099Z",
     "start_time": "2023-12-29T18:21:20.217706Z"
    }
   }
  },
  {
   "cell_type": "code",
   "execution_count": 608,
   "outputs": [],
   "source": [
    "# Generate the contraption as a 2d NumPy array, bottom left is 0,0\n",
    "# The y-axis increases up\n",
    "# The x-axis increases right\n",
    "row_list = list()\n",
    "for i,input_row in enumerate(input_list):\n",
    "    row_list.append([x for x in input_row])\n",
    "contraption = np.array(row_list[::-1]).T"
   ],
   "metadata": {
    "collapsed": false,
    "ExecuteTime": {
     "end_time": "2023-12-29T18:21:20.227838Z",
     "start_time": "2023-12-29T18:21:20.224013Z"
    }
   }
  },
  {
   "cell_type": "code",
   "execution_count": 609,
   "outputs": [
    {
     "name": "stdout",
     "output_type": "stream",
     "text": [
      "**********\n",
      ".|...\\....\n",
      "|.-.\\.....\n",
      ".....|-...\n",
      "........|.\n",
      "..........\n",
      ".........\\\n",
      "..../.\\\\..\n",
      ".-.-/..|..\n",
      ".|....-|.\\\n",
      "..//.|....\n"
     ]
    }
   ],
   "source": [
    "pretty_print(contraption)"
   ],
   "metadata": {
    "collapsed": false,
    "ExecuteTime": {
     "end_time": "2023-12-29T18:21:20.241221Z",
     "start_time": "2023-12-29T18:21:20.230331Z"
    }
   }
  },
  {
   "cell_type": "markdown",
   "source": [
    "Beam direction is in degrees. Up is 0, right is 90, down is 180, and left is 270."
   ],
   "metadata": {
    "collapsed": false
   }
  },
  {
   "cell_type": "code",
   "execution_count": 610,
   "outputs": [],
   "source": [
    "beams = dict()\n",
    "beams[0] = {'start': (0,contraption.shape[1]-1), 'current_direction': 90, 'path':[(0,contraption.shape[1]-1)]}"
   ],
   "metadata": {
    "collapsed": false,
    "ExecuteTime": {
     "end_time": "2023-12-29T18:21:20.241468Z",
     "start_time": "2023-12-29T18:21:20.233700Z"
    }
   }
  },
  {
   "cell_type": "code",
   "execution_count": 611,
   "outputs": [],
   "source": [
    "def get_object(vector, direction, coord):\n",
    "    \"\"\"\n",
    "    For a given NumPy vector, from the coord tuple, return the first object found looking in the given direction.\n",
    "    If no object is found in the laser path, return x,y coordinates outside of the contraption with the '#' object.\n",
    "    :param vector: 1d NumPy vector\n",
    "    :param direction: 0,90,180,270 up, right, down, left\n",
    "    :param coord: Tuple with x,y coordinates\n",
    "    :return: x, y coordinates of the object and the object\n",
    "    \"\"\"\n",
    "    vector_list = list(vector)\n",
    "    index = -1\n",
    "    for index in range(len(vector_list)):\n",
    "        if vector_list[0] == '.':\n",
    "            vector_list.pop(0)\n",
    "        else:\n",
    "            obj = vector_list[0]\n",
    "            break\n",
    "    \n",
    "    if len(vector_list) == 0:\n",
    "        # Beam edge condition\n",
    "        obj = '#'\n",
    "        index += 1\n",
    "\n",
    "    match direction:\n",
    "        case 0:\n",
    "            x,y = coord[0], coord[1]+index+1\n",
    "        case 90:\n",
    "            x,y = coord[0]+index+1, coord[1]\n",
    "        case 180:\n",
    "            x,y = coord[0], coord[1]-index-1\n",
    "        case 270:\n",
    "            x,y = coord[0]-index-1, coord[1]\n",
    "    return x, y, obj\n",
    "\n",
    "\n",
    "def turn(direction, left_or_right):\n",
    "    direction += 90 if left_or_right == 'R' else -90\n",
    "    direction = direction % 360\n",
    "    return direction\n",
    "\n",
    "def follow_path(beam):\n",
    "    match beam['current_direction']:\n",
    "        case 0:\n",
    "            beam_vector = contraption[beam['start'][0], beam['start'][1]+1::]\n",
    "        case 90:\n",
    "            beam_vector = contraption[beam['start'][0]+1::, beam['start'][1]]\n",
    "        case 180:\n",
    "            beam_vector = contraption[beam['start'][0], 0:beam['start'][1]][::-1]\n",
    "        case 270:\n",
    "            beam_vector = contraption[0:beam['start'][0], beam['start'][1]][::-1]\n",
    "        case _:\n",
    "            beam_vector = None\n",
    "    x, y, obj = get_object(beam_vector, beam['current_direction'], beam['start'])\n",
    "    \n",
    "    # Fill in the beam path with #s\n",
    "    if x != beam['start'][0]:\n",
    "        path = [(x_path, beam['start'][1]) for x_path in range(min(x,beam['start'][0]), max(x,beam['start'][0])+1)]\n",
    "    else:\n",
    "        path = [(beam['start'][0], y_path) for y_path in range(min(y,beam['start'][1]), max(y,beam['start'][1])+1)]\n",
    "    \n",
    "    # aoc.logger.info(f'{path=}')\n",
    "    \n",
    "    new_beams = list()\n",
    "    match obj:\n",
    "        case '\\\\':\n",
    "            match beam['current_direction']:\n",
    "                case 90 | 270:\n",
    "                    left_or_right='R'\n",
    "                case _:\n",
    "                    left_or_right = 'L'\n",
    "            new_beams.append({'current_direction': turn(beam['current_direction'], left_or_right), 'start': (x,y), 'edge': False, 'path': path})\n",
    "        case '/':\n",
    "            match beam['current_direction']:\n",
    "                case 90 | 270:\n",
    "                    left_or_right='L'\n",
    "                case _:\n",
    "                    left_or_right = 'R'\n",
    "            new_beams.append({'current_direction': turn(beam['current_direction'], left_or_right), 'start': (x,y), 'edge': False, 'path': path})\n",
    "        case '|':\n",
    "            match beam['current_direction']:\n",
    "                case 90 | 270:\n",
    "                    # if beam enters from left or right, beam splits up and down\n",
    "                    new_beams.append({'current_direction': 0, 'start': (x,y), 'edge': False, 'path': path})\n",
    "                    new_beams.append({'current_direction': 180, 'start': (x,y), 'edge': False, 'path': path})\n",
    "                case _:\n",
    "                    # if beam enters from top or bottom, beam passes through\n",
    "                    new_beams.append({'current_direction': beam['current_direction'], 'start': (x,y), 'edge': False, 'path': path})\n",
    "        case '-':\n",
    "            match beam['current_direction']:\n",
    "                case 0 | 180:\n",
    "                    # if beam enters from top or bottom, beam splits left and right\n",
    "                    new_beams.append({'current_direction': 90, 'start': (x,y), 'edge': False, 'path': path})\n",
    "                    new_beams.append({'current_direction': 270, 'start': (x,y), 'edge': False, 'path': path})\n",
    "                case _:\n",
    "                    # if beam enters from left or right, beam passes through\n",
    "                    new_beams.append({'current_direction': beam['current_direction'], 'start': (x,y), 'edge': False, 'path': path})             \n",
    "        case '#':\n",
    "            new_beams.append({'current_direction': beam['current_direction'], 'start': (x,y), 'edge': True, 'path': path})\n",
    "    return new_beams"
   ],
   "metadata": {
    "collapsed": false,
    "ExecuteTime": {
     "end_time": "2023-12-29T18:21:20.261057Z",
     "start_time": "2023-12-29T18:21:20.243578Z"
    }
   }
  },
  {
   "cell_type": "code",
   "execution_count": 612,
   "outputs": [],
   "source": [
    "def test_turns():\n",
    "    # Test the turn function\n",
    "    assert turn(0, 'L') == 270\n",
    "    assert turn(90,'L') == 0\n",
    "    assert turn(180,'L') == 90\n",
    "    assert turn(270,'L') == 180\n",
    "    assert turn(0, 'R') == 90\n",
    "    assert turn(90,'R') == 180\n",
    "    assert turn(180,'R') == 270\n",
    "    assert turn(270,'R') == 0\n",
    "    \n",
    "def test_follow_path():\n",
    "    # Test the beam splitters\n",
    "    # Test the up/down split coming at a | from the left\n",
    "    assert follow_path({'start': (0,9), 'current_direction': 90}) == [{'start': (1,9), 'current_direction': 0, 'edge': False,\n",
    "                                                                       'path':[(0,9),(1,9)]},\n",
    "                                                                      {'start': (1,9), 'current_direction': 180, 'edge': False,\n",
    "                                                                       'path':[(0,9),(1,9)]}]\n",
    "    # Test the up/down split coming at a | from the right\n",
    "    assert follow_path({'start': (2,9), 'current_direction': 270}) == [{'start': (1,9), 'current_direction': 0, 'edge': False,\n",
    "                                                                       'path':[(1,9),(2,9)]},\n",
    "                                                                      {'start': (1,9), 'current_direction': 180, 'edge': False,\n",
    "                                                                       'path':[(1,9),(2,9)]}]\n",
    "    # Test the left/right split coming at a - from the top\n",
    "    assert follow_path({'start': (2,9), 'current_direction': 180}) == [{'start': (2,8), 'current_direction': 90, 'edge': False,\n",
    "                                                                       'path':[(2,8),(2,9)]},\n",
    "                                                                       {'start': (2,8), 'current_direction': 270, 'edge': False,\n",
    "                                                                       'path':[(2,8),(2,9)]}]\n",
    "    # Test the left/right split coming at a - from the bottom\n",
    "    assert follow_path({'start': (2,7), 'current_direction': 0}) == [{'start': (2,8), 'current_direction': 90, 'edge': False,\n",
    "                                                                       'path':[(2,7),(2,8)]},\n",
    "                                                                     {'start': (2,8), 'current_direction': 270, 'edge': False,\n",
    "                                                                       'path':[(2,7),(2,8)]}]\n",
    "    \n",
    "    # Test the beam splitter pass through\n",
    "    # Test a pass through coming at a | from the bottom\n",
    "    assert follow_path({'start': (1,8), 'current_direction': 0}) == [{'start': (1,9), 'current_direction': 0, 'edge': False,\n",
    "                                                                      'path':[(1,8),(1,9)]}]\n",
    "    # Test a pass through coming at a | from the top\n",
    "    assert follow_path({'start': (5,8), 'current_direction': 180}) == [{'start': (5,7), 'current_direction': 180, 'edge': False,\n",
    "                                                                        'path':[(5,7),(5,8)]}]\n",
    "    # Test a pass through coming at a - from the left\n",
    "    assert follow_path({'start': (1,8), 'current_direction': 90}) == [{'start': (2,8), 'current_direction': 90, 'edge': False,\n",
    "                                                                       'path':[(1,8),(2,8)]}]\n",
    "    # Test a pass through coming at a - from the right\n",
    "    assert follow_path({'start': (3,8), 'current_direction': 270}) == [{'start': (2,8), 'current_direction': 270, 'edge': False,\n",
    "                                                                        'path':[(2,8),(3,8)]}]\n",
    "    \n",
    "        \n",
    "    # Test the mirrors\n",
    "    # Test a right turn coming at a \\ from the left\n",
    "    assert follow_path({'start': (3,8), 'current_direction': 90}) == [{'start': (4,8), 'current_direction': 180, 'edge': False,\n",
    "                                                                       'path':[(3,8),(4,8)]}]\n",
    "    # Test a right turn coming at a \\ from the right\n",
    "    assert follow_path({'start': (5,8), 'current_direction': 270}) == [{'start': (4,8), 'current_direction': 0, 'edge': False,\n",
    "                                                                        'path':[(4,8),(5,8)]}]\n",
    "    # Test a left turn coming at a \\ from the bottom\n",
    "    assert follow_path({'start': (4,7), 'current_direction': 0}) == [{'start': (4,8), 'current_direction': 270, 'edge': False,\n",
    "                                                                      'path':[(4,7),(4,8)]}]\n",
    "    # Test a left turn coming at a \\ from the top\n",
    "    assert follow_path({'start': (4,9), 'current_direction': 180}) == [{'start': (4,8), 'current_direction': 90, 'edge': False,\n",
    "                                                                        'path':[(4,8),(4,9)]}]\n",
    "    \n",
    "    # Test a left turn coming at a / from the left\n",
    "    assert follow_path({'start': (3,3), 'current_direction': 90}) == [{'start': (4,3), 'current_direction': 0, 'edge': False,\n",
    "                                                                       'path':[(3,3),(4,3)]}]\n",
    "    # Test a left turn coming at a / from the right\n",
    "    assert follow_path({'start': (5,3), 'current_direction': 270}) == [{'start': (4,3), 'current_direction': 180, 'edge': False,\n",
    "                                                                       'path':[(4,3),(5,3)]}]\n",
    "    # Test a right turn coming at a / from the top\n",
    "    assert follow_path({'start': (4,4), 'current_direction': 180}) == [{'start': (4,3), 'current_direction': 270, 'edge': False,\n",
    "                                                                        'path':[(4,3),(4,4)]}]\n",
    "    # Test a right turn coming at a / from the bottom\n",
    "    assert follow_path({'start': (4,2), 'current_direction': 0}) == [{'start': (4,3), 'current_direction': 90, 'edge': False,\n",
    "                                                                      'path':[(4,2),(4,3)]}]\n",
    "    \n",
    "    # Test the edges\n",
    "    # Test going off the right edge\n",
    "    assert follow_path({'start': (9,5), 'current_direction': 90}) == [{'current_direction': 90, 'start': (10, 5), 'edge': True,\n",
    "                                                                       'path': [(9,5),(10,5)]}]\n",
    "    # Test going off the left edge\n",
    "    assert follow_path({'start': (0,5), 'current_direction': 270}) == [{'current_direction': 270, 'start': (-1, 5), 'edge': True,\n",
    "                                                                        'path': [(-1,5),(0,5)]}]\n",
    "    # Test going off the top edge\n",
    "    assert follow_path({'start': (0,9), 'current_direction': 0}) == [{'current_direction': 0, 'start': (0, 10), 'edge': True,\n",
    "                                                                      'path': [(0,9),(0,10)]}]\n",
    "    # Test going off the bottom edge\n",
    "    assert follow_path({'start': (0,0), 'current_direction': 180}) == [{'current_direction': 180, 'start': (0, -1), 'edge': True,\n",
    "                                                                        'path': [(0,-1),(0,0)]}]\n"
   ],
   "metadata": {
    "collapsed": false,
    "ExecuteTime": {
     "end_time": "2023-12-29T18:21:20.261719Z",
     "start_time": "2023-12-29T18:21:20.245892Z"
    }
   }
  },
  {
   "cell_type": "code",
   "execution_count": 613,
   "outputs": [],
   "source": [
    "test_follow_path()"
   ],
   "metadata": {
    "collapsed": false,
    "ExecuteTime": {
     "end_time": "2023-12-29T18:21:20.261974Z",
     "start_time": "2023-12-29T18:21:20.258125Z"
    }
   }
  },
  {
   "cell_type": "code",
   "execution_count": 614,
   "outputs": [
    {
     "data": {
      "text/plain": "[{'current_direction': 0,\n  'start': (1, 9),\n  'edge': False,\n  'path': [(0, 9), (1, 9)]},\n {'current_direction': 180,\n  'start': (1, 9),\n  'edge': False,\n  'path': [(0, 9), (1, 9)]}]"
     },
     "execution_count": 614,
     "metadata": {},
     "output_type": "execute_result"
    }
   ],
   "source": [
    "follow_path({'start': (0,9), 'current_direction': 90})"
   ],
   "metadata": {
    "collapsed": false,
    "ExecuteTime": {
     "end_time": "2023-12-29T18:21:20.271734Z",
     "start_time": "2023-12-29T18:21:20.261539Z"
    }
   }
  },
  {
   "cell_type": "code",
   "execution_count": 622,
   "outputs": [
    {
     "name": "stderr",
     "output_type": "stream",
     "text": [
      "INFO:AoC:v[\"path\"]=[(8, -1), (8, 0), (8, 1), (8, 2), (8, 3), (8, 4)]\n",
      "INFO:AoC:beam_counter=0 old_v={'start': (8, 4), 'current_direction': 180} -> v={'current_direction': 180, 'start': (8, -1), 'edge': True, 'path': [(8, -1), (8, 0), (8, 1), (8, 2), (8, 3), (8, 4)]}\n"
     ]
    },
    {
     "name": "stdout",
     "output_type": "stream",
     "text": [
      "**********\n",
      ".|...\\....\n",
      "|.-.\\.....\n",
      ".....|-...\n",
      "........|.\n",
      "..........\n",
      "........v\\\n",
      "..../.\\\\v.\n",
      ".-.-/..|v.\n",
      ".|....-|v\\\n",
      "..//.|..v.\n"
     ]
    }
   ],
   "source": [
    "path_symbols = {0:'^', 90:'>', 180:'v', 270:'<'}\n",
    "beam_counter = 0\n",
    "contraption_path = np.copy(contraption)\n",
    "v = {'start': (8,4), 'current_direction': 180}\n",
    "while True:\n",
    "    old_v = v\n",
    "    v = follow_path(v)[0]\n",
    "    aoc.logger.info(f'{v[\"path\"]=}')\n",
    "    for coord in v['path']:\n",
    "        try:\n",
    "            # Need to handle the case when the x or y coordinate is negative. This is off the left or bottom edge.\n",
    "            if coord[0] >= 0 and coord[1] >=0:\n",
    "                contraption_path[coord[0]][coord[1]] = path_symbols[old_v['current_direction']]\n",
    "        except IndexError:\n",
    "            aoc.logger.info(f'Edge of contraction reached')\n",
    "    aoc.logger.info(f'{beam_counter=} {old_v=} -> {v=}')\n",
    "    pretty_print(contraption_path)\n",
    "    if v['edge']:\n",
    "        break\n",
    "    beam_counter += 1"
   ],
   "metadata": {
    "collapsed": false,
    "ExecuteTime": {
     "end_time": "2023-12-29T19:15:53.745893Z",
     "start_time": "2023-12-29T19:15:53.736414Z"
    }
   }
  },
  {
   "cell_type": "markdown",
   "source": [
    "# Part 2"
   ],
   "metadata": {
    "collapsed": false
   }
  },
  {
   "cell_type": "code",
   "outputs": [],
   "source": [],
   "metadata": {
    "collapsed": false
   }
  }
 ],
 "metadata": {
  "kernelspec": {
   "display_name": "Python 3",
   "language": "python",
   "name": "python3"
  },
  "language_info": {
   "codemirror_mode": {
    "name": "ipython",
    "version": 2
   },
   "file_extension": ".py",
   "mimetype": "text/x-python",
   "name": "python",
   "nbconvert_exporter": "python",
   "pygments_lexer": "ipython2",
   "version": "2.7.6"
  }
 },
 "nbformat": 4,
 "nbformat_minor": 0
}
