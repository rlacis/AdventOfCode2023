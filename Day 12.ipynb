{
 "cells": [
  {
   "cell_type": "markdown",
   "source": [
    "# Advent of Code 2023, Day 12\n",
    "[Day 12 Challenge](https://adventofcode.com/2023/day/12)"
   ],
   "metadata": {
    "collapsed": false
   },
   "id": "8e87bfb83d70f761"
  },
  {
   "cell_type": "code",
   "execution_count": 1,
   "outputs": [],
   "source": [
    "import aoc\n",
    "import logging\n",
    "import networkx as nx\n",
    "import numpy as np\n",
    "import scipy\n",
    "import matplotlib as mpl\n",
    "import matplotlib.pyplot as plt\n",
    "import itertools\n",
    "import math\n",
    "from typing import List\n",
    "%reload_ext autoreload\n",
    "\n",
    "day = 12\n",
    "sample = True\n",
    "sample_number = 1"
   ],
   "metadata": {
    "collapsed": false,
    "ExecuteTime": {
     "end_time": "2023-12-18T16:54:01.496305Z",
     "start_time": "2023-12-18T16:54:00.924914Z"
    }
   },
   "id": "c33148adbff3dd0c"
  },
  {
   "cell_type": "code",
   "execution_count": 2,
   "outputs": [],
   "source": [
    "input_list = aoc.split_contents(aoc.read_input(f'Input/day_{day:02}{\"_sample\"+str(sample_number) if sample else \"\"}.txt'))"
   ],
   "metadata": {
    "collapsed": false,
    "ExecuteTime": {
     "end_time": "2023-12-18T16:54:01.498394Z",
     "start_time": "2023-12-18T16:54:01.482054Z"
    }
   },
   "id": "27a1fe00ba73ba53"
  },
  {
   "cell_type": "markdown",
   "source": [
    "# Part 1"
   ],
   "metadata": {
    "collapsed": false
   },
   "id": "774591f15f753679"
  },
  {
   "cell_type": "code",
   "execution_count": 3,
   "outputs": [
    {
     "data": {
      "text/plain": "['???.### 1,1,3',\n '.??..??...?##. 1,1,3',\n '?#?#?#?#?#?#?#? 1,3,1,6',\n '????.#...#... 4,1,1',\n '????.######..#####. 1,6,5',\n '?###???????? 3,2,1']"
     },
     "execution_count": 3,
     "metadata": {},
     "output_type": "execute_result"
    }
   ],
   "source": [
    "input_list"
   ],
   "metadata": {
    "collapsed": false,
    "ExecuteTime": {
     "end_time": "2023-12-18T16:54:11.459029Z",
     "start_time": "2023-12-18T16:54:11.452875Z"
    }
   },
   "id": "a4ac4cfbb2fe382d"
  },
  {
   "cell_type": "code",
   "execution_count": 10,
   "outputs": [
    {
     "name": "stderr",
     "output_type": "stream",
     "text": [
      "INFO:AoC:conditions='???.###' springs=[1, 1, 3]\n",
      "INFO:AoC:conditions='.??..??...?##.' springs=[1, 1, 3]\n",
      "INFO:AoC:conditions='?#?#?#?#?#?#?#?' springs=[1, 3, 1, 6]\n",
      "INFO:AoC:conditions='????.#...#...' springs=[4, 1, 1]\n",
      "INFO:AoC:conditions='????.######..#####.' springs=[1, 6, 5]\n",
      "INFO:AoC:conditions='?###????????' springs=[3, 2, 1]\n"
     ]
    }
   ],
   "source": [
    "for group in input_list:\n",
    "    conditions = group.split(' ')[0]\n",
    "    springs = [int(x) for x in group.split(' ')[1].split(',')]\n",
    "    aoc.logger.info(f'{conditions=} {springs=}')"
   ],
   "metadata": {
    "collapsed": false,
    "ExecuteTime": {
     "end_time": "2023-12-19T02:32:43.118583Z",
     "start_time": "2023-12-19T02:32:43.108468Z"
    }
   },
   "id": "55295b0d31f32806"
  },
  {
   "cell_type": "code",
   "execution_count": null,
   "outputs": [],
   "source": [],
   "metadata": {
    "collapsed": false
   },
   "id": "a8277b235b1023f0"
  }
 ],
 "metadata": {
  "kernelspec": {
   "display_name": "Python 3",
   "language": "python",
   "name": "python3"
  },
  "language_info": {
   "codemirror_mode": {
    "name": "ipython",
    "version": 2
   },
   "file_extension": ".py",
   "mimetype": "text/x-python",
   "name": "python",
   "nbconvert_exporter": "python",
   "pygments_lexer": "ipython2",
   "version": "2.7.6"
  }
 },
 "nbformat": 4,
 "nbformat_minor": 5
}
