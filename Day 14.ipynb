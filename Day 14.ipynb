{
 "cells": [
  {
   "cell_type": "code",
   "execution_count": 349,
   "outputs": [],
   "source": [
    "import aoc\n",
    "import numpy as np\n",
    "\n",
    "%reload_ext autoreload\n",
    "\n",
    "day = 14\n",
    "sample = False\n",
    "sample_number = 1"
   ],
   "metadata": {
    "collapsed": false
   }
  },
  {
   "cell_type": "code",
   "execution_count": 350,
   "outputs": [],
   "source": [
    "input_list = aoc.split_contents(aoc.read_input(f'Input/day_{day:02}{\"_sample\"+str(sample_number) if sample else \"\"}.txt'))"
   ],
   "metadata": {
    "collapsed": false
   }
  },
  {
   "cell_type": "markdown",
   "source": [
    "# Part 1"
   ],
   "metadata": {
    "collapsed": false
   }
  },
  {
   "cell_type": "code",
   "execution_count": 351,
   "outputs": [],
   "source": [
    "def pretty_print(array):\n",
    "    # Prints the array with the bottom left corner being 0,0\n",
    "    array_t = array.T\n",
    "    for y in reversed(range(array_t.shape[1])):\n",
    "        print(''.join(array_t[y]))\n",
    "\n",
    "\n",
    "def get_cube_rock_dict(array):\n",
    "    \"\"\"\n",
    "    Builds a dictionary of all the cube rocks (#s) on the platform. The dictionary key is a tuple\n",
    "    of the x,y coordinates of the cube rock. The value of the key, initialized to zero, will be the\n",
    "    number of rolling rocks stacked up against it based on the tilt direction.\n",
    "    :param array: Input platform\n",
    "    :type array: NumPy 2d array\n",
    "    :return: Dictionary of cube rocks\n",
    "    :rtype: Dictionary\n",
    "    \"\"\"\n",
    "    cube_rock_dict = dict()\n",
    "    for x in range(array.shape[0]):\n",
    "        for y in range(array.shape[1]):\n",
    "            if array[x][y] == '#':\n",
    "                cube_rock_dict[(x,y)] = 0\n",
    "    # build a pseudo row of rocks around the edges\n",
    "    for x in range(array.shape[0]):\n",
    "        cube_rock_dict[(x,array.shape[1])] = 0\n",
    "        cube_rock_dict[(x,-1)] = 0\n",
    "    for y in range(array.shape[1]):\n",
    "        cube_rock_dict[(array.shape[0]),y] = 0\n",
    "        cube_rock_dict[(-1,y)] = 0\n",
    "    return cube_rock_dict\n",
    "\n",
    "\n",
    "def count_rolling_rocks_between(coord1, coord2, array):\n",
    "    \"\"\"\n",
    "    A count of rolling rocks between any 2 vertically or horizontally aligned coordinates\n",
    "    :param coord1: x,y coordinates of point 1\n",
    "    :type coord1: Tuple\n",
    "    :param coord2: x,y coordinates of point 2\n",
    "    :type coord2: Tuple\n",
    "    :param array: 2d platform\n",
    "    :type array: NumPy 2d array\n",
    "    :return: Count of rolling rocks 'O' between the 2 coordinates\n",
    "    :rtype: Integer\n",
    "    \"\"\"\n",
    "    if coord1[0] == coord2[0]:\n",
    "        # The x coordinates are the same so this is a vertical stack\n",
    "        column = coord1[0]\n",
    "        row_start = min(coord1[1],coord2[1])\n",
    "        row_end = max(coord1[1],coord2[1])\n",
    "        stack = array[column,row_start+1:row_end]\n",
    "    elif coord1[1] == coord2[1]:\n",
    "        # The y coordinates are the same, to this is a horizontal stack\n",
    "        row = coord1[1]\n",
    "        col_start = min(coord1[0],coord2[0])\n",
    "        col_end = max(coord1[0],coord2[0])\n",
    "        stack = array[col_start+1:col_end,row]\n",
    "    else:\n",
    "        raise ValueError(f'The coordinates {coord1} and {coord2} are not orthogonal.')\n",
    "    # counts all the characters in the array and zips into a dict\n",
    "    unique,counts = np.unique(stack, return_counts=True)\n",
    "    stack_dict = dict(zip(unique,counts))\n",
    "    # just return the count of O's\n",
    "    return 0 if stack_dict.get('O') is None else stack_dict.get('O')\n",
    "\n",
    "\n",
    "def get_next_cube_coordinate(coord, direction, array):\n",
    "    \"\"\"\n",
    "    General function to find the coordinates of the next cube rock looking in any direction\n",
    "    from the given coordinate. If there is no cube rock between the given coordinate and the edge,\n",
    "    then just return the edge coordinate in the given direction.\n",
    "    :param coord: x,y coordinate to look from\n",
    "    :type coord: Tuple\n",
    "    :param direction: Compass direction (NSEW) to look in\n",
    "    :type direction: String\n",
    "    :param array: 2d NumPy array of the platform\n",
    "    :type array: NumPy 2d array\n",
    "    :return: x,y coordinates of the next cube rock '#'\n",
    "    :rtype: Tuple\n",
    "    \"\"\"\n",
    "    if direction not in ['N','S','E','W']:\n",
    "        raise ValueError(f'The direction needs to be in NSEW. You provided {direction}')\n",
    "    if direction in ['N','S']:\n",
    "        if direction == 'S':\n",
    "            aoc.logger.info(f'{coord[0]=} {coord[1]=} {array.shape[1]=}')\n",
    "            vector = array[coord[0],::-1][array.shape[1]  - coord[1]:]\n",
    "            aoc.logger.info(f'{vector=}')\n",
    "            try:\n",
    "                cube_coord = (coord[0], coord[1] - list(vector).index('#') - 1)\n",
    "            except ValueError:\n",
    "                # No cubes to the south, so just return the edge coordinate.\n",
    "                aoc.logger.info(f'No cubes to the south')\n",
    "                cube_coord = (coord[0],-1)\n",
    "        else:\n",
    "            # TODO: Needs fixing\n",
    "            vector = array[coord[0],:][coord[1]+1:]\n",
    "            aoc.logger.info(f'{vector=}')\n",
    "            try:\n",
    "                cube_coord = (coord[0], coord[1] + list(vector).index('#') +1)\n",
    "            except ValueError:\n",
    "                # No cubes to the north, so just return the edge coordinate.\n",
    "                aoc.logger.info(f'No cubes to the north')\n",
    "                cube_coord = (coord[0],array.shape[1])\n",
    "    else:\n",
    "        if direction == 'E':\n",
    "            # TODO: Needs fixing\n",
    "            vector = array[:,coord[1]][coord[0]+1:]\n",
    "            try:\n",
    "                cube_coord = (coord[0] + list(vector).index('#') + 1, coord[1])\n",
    "            except ValueError:\n",
    "                # No cubes to the east, so just return the edge coordinate.\n",
    "                cube_coord = (array.shape[0]-1,coord[1])\n",
    "        else:\n",
    "            # TODO: Needs fixing\n",
    "            vector = array[::-1,coord[1]][array.shape[0] - coord[0]:]\n",
    "            try:\n",
    "                cube_coord = (coord[0] - list(vector).index('#') -1, coord[1])\n",
    "            except ValueError:\n",
    "                # No cubes to the west, so just return the edge coordinate.\n",
    "                cube_coord = (0, coord[1])\n",
    "    return cube_coord"
   ],
   "metadata": {
    "collapsed": false
   }
  },
  {
   "cell_type": "code",
   "execution_count": 352,
   "outputs": [],
   "source": [
    "# Generate the platform as a 2d NumPy array, bottom left is 0,0\n",
    "# The y-axis increases up\n",
    "# The x-axis increases right\n",
    "row_list = list()\n",
    "for i,input_row in enumerate(input_list):\n",
    "    row_list.append([x for x in input_row])\n",
    "platform = np.array(row_list[::-1]).T"
   ],
   "metadata": {
    "collapsed": false
   }
  },
  {
   "cell_type": "code",
   "execution_count": 353,
   "outputs": [],
   "source": [
    "aoc.logger.setLevel(30)\n",
    "tilt_direction = 'N'\n",
    "limit_dict = {\n",
    "    'N': {'x_bounds':(0,platform.shape[0]-1), 'y_bounds': (0,platform.shape[1])},\n",
    "    'S': {'x_bounds':(0,platform.shape[0]-1), 'y_bounds': (-1,platform.shape[1]-1)},\n",
    "    'E': {'x_bounds':(0,platform.shape[0]), 'y_bounds': (0,platform.shape[1]-1)},\n",
    "    'W': {'x_bounds':(-1,platform.shape[0]-1), 'y_bounds': (0,platform.shape[1]-1)}\n",
    "}\n",
    "cube_rocks = get_cube_rock_dict(platform)\n",
    "for item in cube_rocks:\n",
    "    if ((limit_dict[tilt_direction]['x_bounds'][0] <= item[0] <= limit_dict[tilt_direction]['x_bounds'][1]) and\n",
    "        (limit_dict[tilt_direction]['y_bounds'][0] <= item[1] <= limit_dict[tilt_direction]['y_bounds'][1])):\n",
    "        next_cube_coord = get_next_cube_coordinate(item, 'S', platform)\n",
    "        rolling_rock_count = count_rolling_rocks_between(item,next_cube_coord,platform)\n",
    "        cube_rocks[item] = rolling_rock_count"
   ],
   "metadata": {
    "collapsed": false
   }
  },
  {
   "cell_type": "code",
   "execution_count": 354,
   "outputs": [],
   "source": [
    "aoc.logger.setLevel(30)\n",
    "total_load = 0\n",
    "for cube_rock in cube_rocks.items():\n",
    "    if cube_rock[1] > 0:\n",
    "        load = sum(range((cube_rock[0][1] - cube_rock[1] + 1), (cube_rock[0][1]) + 1))\n",
    "        total_load += load\n",
    "        aoc.logger.info(f'{cube_rock=} {load=}')"
   ],
   "metadata": {
    "collapsed": false
   }
  },
  {
   "cell_type": "code",
   "execution_count": 355,
   "outputs": [
    {
     "data": {
      "text/plain": "111339"
     },
     "execution_count": 355,
     "metadata": {},
     "output_type": "execute_result"
    }
   ],
   "source": [
    "total_load"
   ],
   "metadata": {
    "collapsed": false
   }
  },
  {
   "cell_type": "markdown",
   "source": [
    "# Part 2"
   ],
   "metadata": {
    "collapsed": false
   }
  },
  {
   "cell_type": "code",
   "execution_count": 356,
   "outputs": [
    {
     "data": {
      "text/plain": "{'N': {'x_bounds': (0, 99), 'y_bounds': (0, 100)},\n 'S': {'x_bounds': (0, 99), 'y_bounds': (-1, 99)},\n 'E': {'x_bounds': (0, 100), 'y_bounds': (0, 99)},\n 'W': {'x_bounds': (-1, 99), 'y_bounds': (0, 99)}}"
     },
     "execution_count": 356,
     "metadata": {},
     "output_type": "execute_result"
    }
   ],
   "source": [
    "limit_dict"
   ],
   "metadata": {
    "collapsed": false
   }
  },
  {
   "cell_type": "code",
   "execution_count": 356,
   "outputs": [],
   "source": [],
   "metadata": {
    "collapsed": false
   }
  }
 ],
 "metadata": {
  "kernelspec": {
   "display_name": "Python 3",
   "language": "python",
   "name": "python3"
  },
  "language_info": {
   "codemirror_mode": {
    "name": "ipython",
    "version": 2
   },
   "file_extension": ".py",
   "mimetype": "text/x-python",
   "name": "python",
   "nbconvert_exporter": "python",
   "pygments_lexer": "ipython2",
   "version": "2.7.6"
  }
 },
 "nbformat": 4,
 "nbformat_minor": 0
}
