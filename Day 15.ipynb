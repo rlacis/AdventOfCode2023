{
 "cells": [
  {
   "cell_type": "code",
   "execution_count": 131,
   "outputs": [],
   "source": [
    "import aoc\n",
    "from collections import OrderedDict\n",
    "\n",
    "%reload_ext autoreload\n",
    "\n",
    "day = 15\n",
    "sample = False\n",
    "sample_number = 1"
   ],
   "metadata": {
    "collapsed": false
   }
  },
  {
   "cell_type": "code",
   "execution_count": 132,
   "outputs": [],
   "source": [
    "input_list = aoc.split_contents(aoc.read_input(f'Input/day_{day:02}{\"_sample\"+str(sample_number) if sample else \"\"}.txt'))"
   ],
   "metadata": {
    "collapsed": false
   }
  },
  {
   "cell_type": "markdown",
   "source": [
    "# Part 1"
   ],
   "metadata": {
    "collapsed": false
   }
  },
  {
   "cell_type": "code",
   "execution_count": 133,
   "outputs": [],
   "source": [
    "def get_hash(char_string):\n",
    "    current_value = 0\n",
    "    for char in char_string:\n",
    "        current_value += ord(char)\n",
    "        current_value *= 17\n",
    "        current_value = current_value % 256\n",
    "    return current_value"
   ],
   "metadata": {
    "collapsed": false
   }
  },
  {
   "cell_type": "code",
   "execution_count": 134,
   "outputs": [],
   "source": [
    "sum_of_results = 0\n",
    "steps = input_list[0].split(',')\n",
    "for step in steps:\n",
    "    sum_of_results += get_hash(step)"
   ],
   "metadata": {
    "collapsed": false
   }
  },
  {
   "cell_type": "code",
   "execution_count": 135,
   "outputs": [
    {
     "data": {
      "text/plain": "513214"
     },
     "execution_count": 135,
     "metadata": {},
     "output_type": "execute_result"
    }
   ],
   "source": [
    "sum_of_results"
   ],
   "metadata": {
    "collapsed": false
   }
  },
  {
   "cell_type": "markdown",
   "source": [
    "# Part 2"
   ],
   "metadata": {
    "collapsed": false
   }
  },
  {
   "cell_type": "markdown",
   "source": [
    "Python's ordered dictionaries are the perfect tool for this problem."
   ],
   "metadata": {
    "collapsed": false
   }
  },
  {
   "cell_type": "code",
   "execution_count": 136,
   "outputs": [],
   "source": [
    "boxes = {key:OrderedDict() for key in range(256)}"
   ],
   "metadata": {
    "collapsed": false
   }
  },
  {
   "cell_type": "code",
   "execution_count": 137,
   "outputs": [],
   "source": [
    "def remove_lens_from_box(box_number, lens):\n",
    "    if lens in boxes[box_number].keys():\n",
    "        del boxes[box_number][lens]\n",
    "\n",
    "def add_lens_to_box(box_number, lens):\n",
    "    boxes[box_number][lens[0]] = lens[1]\n",
    "\n",
    "def get_focusing_power_of_box(box_number):\n",
    "    focusing_power = 0\n",
    "    for i, (key, f_length) in enumerate(boxes[box_number].items()):\n",
    "        slot = i + 1\n",
    "        focusing_power += (box_number + 1) * slot * f_length\n",
    "    return focusing_power"
   ],
   "metadata": {
    "collapsed": false
   }
  },
  {
   "cell_type": "code",
   "execution_count": 138,
   "outputs": [],
   "source": [
    "for step in steps:\n",
    "    operation_char = '-' if '-' in step else '='\n",
    "    label = step.split(operation_char)[0]\n",
    "    box = get_hash(label)\n",
    "    focal_length = int(step.split(operation_char)[1]) if operation_char == '=' else None\n",
    "    if operation_char == '-':\n",
    "        remove_lens_from_box(box, label)\n",
    "    elif operation_char == '=':\n",
    "        add_lens_to_box(box, (label, focal_length))"
   ],
   "metadata": {
    "collapsed": false
   }
  },
  {
   "cell_type": "code",
   "execution_count": 139,
   "outputs": [],
   "source": [
    "total_focusing_power = 0\n",
    "for box in range(256):\n",
    "    total_focusing_power += get_focusing_power_of_box(box)"
   ],
   "metadata": {
    "collapsed": false
   }
  },
  {
   "cell_type": "code",
   "execution_count": 140,
   "outputs": [
    {
     "data": {
      "text/plain": "258826"
     },
     "execution_count": 140,
     "metadata": {},
     "output_type": "execute_result"
    }
   ],
   "source": [
    "total_focusing_power"
   ],
   "metadata": {
    "collapsed": false
   }
  }
 ],
 "metadata": {
  "kernelspec": {
   "display_name": "Python 3",
   "language": "python",
   "name": "python3"
  },
  "language_info": {
   "codemirror_mode": {
    "name": "ipython",
    "version": 2
   },
   "file_extension": ".py",
   "mimetype": "text/x-python",
   "name": "python",
   "nbconvert_exporter": "python",
   "pygments_lexer": "ipython2",
   "version": "2.7.6"
  }
 },
 "nbformat": 4,
 "nbformat_minor": 0
}
