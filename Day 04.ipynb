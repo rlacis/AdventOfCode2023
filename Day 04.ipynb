{
 "cells": [
  {
   "cell_type": "markdown",
   "source": [
    "# Advent of Code 2023, Day 4\n",
    "https://adventofcode.com/2023/day/4"
   ],
   "metadata": {
    "collapsed": false
   },
   "id": "7bd5dd213498620f"
  },
  {
   "cell_type": "code",
   "execution_count": 2,
   "outputs": [],
   "source": [
    "import aoc\n",
    "from typing import List\n",
    "%reload_ext autoreload"
   ],
   "metadata": {
    "collapsed": false,
    "ExecuteTime": {
     "end_time": "2023-12-04T13:00:54.059987Z",
     "start_time": "2023-12-04T13:00:54.043431Z"
    }
   },
   "id": "d27f1ece08231973"
  },
  {
   "cell_type": "code",
   "execution_count": 131,
   "outputs": [],
   "source": [
    "input_list = aoc.split_contents(aoc.read_input('Input/day_04.txt'))"
   ],
   "metadata": {
    "collapsed": false,
    "ExecuteTime": {
     "end_time": "2023-12-05T15:50:24.438331Z",
     "start_time": "2023-12-05T15:50:24.433085Z"
    }
   },
   "id": "66d713d545ebd18b"
  },
  {
   "cell_type": "markdown",
   "source": [
    "# Part 1"
   ],
   "metadata": {
    "collapsed": false
   },
   "id": "cb0a55abdf13416e"
  },
  {
   "cell_type": "code",
   "execution_count": 132,
   "outputs": [],
   "source": [
    "pile_value = 0\n",
    "card_dict = dict()\n",
    "for card in input_list:\n",
    "    card_number = int(card.split('|')[0].split(':')[0].split()[1])\n",
    "    winning_numbers = card.split('|')[0].split(':')[1].strip().split()\n",
    "    my_numbers = card.split('|')[1].strip().split()\n",
    "    intersection = list(set(winning_numbers) & set(my_numbers))\n",
    "    card_value = 2 ** (len(intersection)-1) if len(intersection) > 0 else 0\n",
    "    pile_value += card_value\n",
    "    # card_dict is for part 2\n",
    "    card_dict[card_number] = len(intersection)\n",
    "    # aoc.logger.info(f'{winning_numbers=} {my_numbers=}')\n",
    "    # aoc.logger.info(f'{intersection=} {card_value=}')"
   ],
   "metadata": {
    "collapsed": false,
    "ExecuteTime": {
     "end_time": "2023-12-05T15:50:27.122602Z",
     "start_time": "2023-12-05T15:50:27.114116Z"
    }
   },
   "id": "107b2de01d714eb9"
  },
  {
   "cell_type": "code",
   "execution_count": 133,
   "outputs": [
    {
     "data": {
      "text/plain": "20855"
     },
     "execution_count": 133,
     "metadata": {},
     "output_type": "execute_result"
    }
   ],
   "source": [
    "pile_value"
   ],
   "metadata": {
    "collapsed": false,
    "ExecuteTime": {
     "end_time": "2023-12-05T15:50:28.595557Z",
     "start_time": "2023-12-05T15:50:28.592471Z"
    }
   },
   "id": "23683a859d7aeaf9"
  },
  {
   "cell_type": "markdown",
   "source": [
    "# Part 2"
   ],
   "metadata": {
    "collapsed": false
   },
   "id": "d8a98818dd928343"
  },
  {
   "cell_type": "code",
   "execution_count": 135,
   "outputs": [],
   "source": [
    "counter = 0\n",
    "def get_winning_cards(c, level):\n",
    "    global counter\n",
    "    level += 1\n",
    "    for i in range(card_dict[c]):\n",
    "        # aoc.logger.info(f'{i+c+1=}  {level=}')\n",
    "        get_winning_cards(i+c+1, level)\n",
    "        counter += 1\n",
    "\n",
    "for card in card_dict:\n",
    "    get_winning_cards(card, 0)\n",
    "    counter += 1"
   ],
   "metadata": {
    "collapsed": false,
    "ExecuteTime": {
     "end_time": "2023-12-05T15:50:35.892584Z",
     "start_time": "2023-12-05T15:50:34.934039Z"
    }
   },
   "id": "8910568a38c3ed2b"
  },
  {
   "cell_type": "code",
   "execution_count": 136,
   "outputs": [
    {
     "data": {
      "text/plain": "5489600"
     },
     "execution_count": 136,
     "metadata": {},
     "output_type": "execute_result"
    }
   ],
   "source": [
    "counter"
   ],
   "metadata": {
    "collapsed": false,
    "ExecuteTime": {
     "end_time": "2023-12-05T15:50:36.918868Z",
     "start_time": "2023-12-05T15:50:36.915334Z"
    }
   },
   "id": "a67199e3b84ebd0f"
  }
 ],
 "metadata": {
  "kernelspec": {
   "display_name": "Python 3",
   "language": "python",
   "name": "python3"
  },
  "language_info": {
   "codemirror_mode": {
    "name": "ipython",
    "version": 2
   },
   "file_extension": ".py",
   "mimetype": "text/x-python",
   "name": "python",
   "nbconvert_exporter": "python",
   "pygments_lexer": "ipython2",
   "version": "2.7.6"
  }
 },
 "nbformat": 4,
 "nbformat_minor": 5
}
